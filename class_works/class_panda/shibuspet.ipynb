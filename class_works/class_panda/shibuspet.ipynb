{
 "cells": [
  {
   "cell_type": "code",
   "execution_count": null,
   "metadata": {},
   "outputs": [],
   "source": [
    "class pets:\n",
    "    def __init__(self):\n",
    "        self.shop = {}\n",
    "        self.temp = {}\n",
    "    \n",
    "    def addpet(self,name,colour,age):\n",
    "        temp = { \"name\" : name,\n",
    "                \"colour\" : colour,\n",
    "                \"age\" : age\n",
    "                }\n",
    "        self.shop[name] : temp\n",
    "        print(self.shop)"
   ]
  }
 ],
 "metadata": {
  "language_info": {
   "name": "python"
  }
 },
 "nbformat": 4,
 "nbformat_minor": 2
}
