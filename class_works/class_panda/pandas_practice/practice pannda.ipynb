{
 "cells": [
  {
   "cell_type": "code",
   "execution_count": 1,
   "metadata": {},
   "outputs": [
    {
     "name": "stdout",
     "output_type": "stream",
     "text": [
      "    cars  passings\n",
      "0    BMW         3\n",
      "1  Volvo         7\n",
      "2   Ford         2\n"
     ]
    }
   ],
   "source": [
    "import pandas\n",
    "mydataset = {\n",
    "    \"cars\": [\"BMW\",\"Volvo\",\"Ford\"],\n",
    "    \"passings\": [3,7,2]\n",
    "}\n",
    "myvar=pandas.DataFrame(mydataset)\n",
    "print(myvar)"
   ]
  },
  {
   "cell_type": "code",
   "execution_count": 4,
   "metadata": {},
   "outputs": [
    {
     "name": "stdout",
     "output_type": "stream",
     "text": [
      "{'key': {'value': ['BMW', 'Volvo', 'Ford']}, 'keys': {'value': ['a', 'o', 'u']}}\n"
     ]
    }
   ],
   "source": [
    "h={ \n",
    "    \"key\":{\"value\":[\"BMW\",\"Volvo\",\"Ford\"]},\n",
    "   \"keys\":{\"value\":[\"a\",\"o\",\"u\"]}\n",
    "   }\n",
    "print(h)\n"
   ]
  },
  {
   "cell_type": "code",
   "execution_count": 13,
   "metadata": {},
   "outputs": [
    {
     "name": "stdout",
     "output_type": "stream",
     "text": [
      "{'h': {'P': ['K', 'op']}}\n"
     ]
    }
   ],
   "source": [
    "import pandas\n",
    "l={\"h\":{\"P\":[\"K\",\"op\"]}}\n",
    "print(l)"
   ]
  }
 ],
 "metadata": {
  "kernelspec": {
   "display_name": "Python 3",
   "language": "python",
   "name": "python3"
  },
  "language_info": {
   "codemirror_mode": {
    "name": "ipython",
    "version": 3
   },
   "file_extension": ".py",
   "mimetype": "text/x-python",
   "name": "python",
   "nbconvert_exporter": "python",
   "pygments_lexer": "ipython3",
   "version": "3.11.1"
  }
 },
 "nbformat": 4,
 "nbformat_minor": 2
}
