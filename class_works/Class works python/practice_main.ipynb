{
 "cells": [
  {
   "cell_type": "code",
   "execution_count": 1,
   "metadata": {},
   "outputs": [
    {
     "name": "stdout",
     "output_type": "stream",
     "text": [
      "Your Details are saved..!\n",
      "******************************\n",
      "Name\t:\tdon\n",
      "\n",
      "Phone\t:\t1234567890\n",
      "\n",
      "Email\t:\t123@werty.in\n",
      "******************************\n"
     ]
    }
   ],
   "source": [
    "def writeMyDetails(name, phone, email):\n",
    "    fileMyDetails = open(name+\".txt\", \"w+\")  # Alwin.txt\n",
    "    fileMyDetails.write(\"Name\\t:\\t\"+name)\n",
    "    fileMyDetails.write(\"\\nPhone\\t:\\t\"+phone)\n",
    "    fileMyDetails.write(\"\\nEmail\\t:\\t\"+email)\n",
    "    fileMyDetails.close()\n",
    "    return True\n",
    "\n",
    "\n",
    "name = input(\"Enter your Name: \")\n",
    "phone = input(\"Enter your Phone Number: \")\n",
    "email = input(\"Enter your Email: \")\n",
    "ret = writeMyDetails(name, phone, email)\n",
    "if ret:\n",
    "    print(\"Your Details are saved..!\")\n",
    "    print(\"*\"*30)\n",
    "    # for line in open(name+\".txt\", \"r+\").readlines():\n",
    "    #     print(line)\n",
    "    file = open(name+\".txt\", \"r+\")\n",
    "    file_lines = file.readlines()\n",
    "    for line in file_lines:\n",
    "        print(line)\n",
    "    print(\"*\"*30)\n",
    "else:\n",
    "    print(\"Some error occured..!\")"
   ]
  },
  {
   "cell_type": "code",
   "execution_count": null,
   "metadata": {},
   "outputs": [],
   "source": [
    "#with open(filename,\"w+\") as file:\n",
    "#    file.write(\"bfekwbfuw\")"
   ]
  },
  {
   "cell_type": "code",
   "execution_count": 1,
   "metadata": {},
   "outputs": [
    {
     "name": "stdout",
     "output_type": "stream",
     "text": [
      "0\n",
      "1\n",
      "2\n",
      "3\n",
      "4\n"
     ]
    }
   ],
   "source": [
    "#while loop is used to run a loop until the condition reaches the required need.\n",
    "a=0\n",
    "while a<5:\n",
    "    print(a)\n",
    "    a=a+1 #or a+=1\n"
   ]
  },
  {
   "cell_type": "code",
   "execution_count": 6,
   "metadata": {},
   "outputs": [
    {
     "name": "stdout",
     "output_type": "stream",
     "text": [
      "============break===========\n",
      "1\n",
      "2\n",
      "3\n",
      "4\n",
      "========pass========\n",
      "1\n",
      "2\n",
      "3\n",
      "4\n",
      "five\n",
      "5\n",
      "6\n",
      "7\n",
      "8\n",
      "9\n",
      "10\n",
      "11\n",
      "12\n",
      "13\n",
      "14\n",
      "15\n",
      "16\n",
      "17\n",
      "18\n",
      "19\n"
     ]
    }
   ],
   "source": [
    "# break (use to break a loop) | continue\n",
    "print(\"============break===========\")\n",
    "for item in range(1,20,1):\n",
    "    if item ==5:\n",
    "        break\n",
    "    print(item)\n",
    "\n",
    "# pass \n",
    "print(\"========pass========\")\n",
    "for item in range(1,20,1):\n",
    "    if item ==5:\n",
    "        print(\"five\")\n",
    "        pass\n",
    "''    print(item)"
   ]
  },
  {
   "cell_type": "code",
   "execution_count": 17,
   "metadata": {},
   "outputs": [
    {
     "name": "stdout",
     "output_type": "stream",
     "text": [
      "========List of items=========\n",
      "['Apple', 'Pineapple', 'Banana', 'Apple', 'Apple', 'Orange']\n",
      "========set of items==========\n",
      "{'Banana', 'Pineapple', 'Orange', 'Apple'}\n",
      "=========set of items separately=========\n",
      "Banana\n",
      "Pineapple\n",
      "Orange\n",
      "Apple\n",
      "======type=======\n",
      "<class 'list'>\n",
      "<class 'set'>\n"
     ]
    }
   ],
   "source": [
    "list_ex=[\"Apple\",\"Pineapple\",\"Banana\",\"Apple\",\"Apple\",\"Orange\"] #assigning elements to list\n",
    "print(\"========List of items=========\")\n",
    "print(list_ex) #printing list\n",
    "print('========set of items==========')\n",
    "print(set(list_ex)) #changing into set\n",
    "set_ex=set(list_ex) #saving as set\n",
    "\n",
    "print(\"=========set of items separately=========\")\n",
    "for item in set_ex: #selecting each elements from set\n",
    "    print(item) #printing the set\n",
    "print(\"======type=======\")\n",
    "print(type(list_ex))\n",
    "print(type(set_ex))"
   ]
  },
  {
   "cell_type": "markdown",
   "metadata": {},
   "source": [
    "Q) Write a program to accept 10 random strings.Identify the unique items and their count"
   ]
  },
  {
   "cell_type": "code",
   "execution_count": 2,
   "metadata": {},
   "outputs": [
    {
     "name": "stdout",
     "output_type": "stream",
     "text": [
      "1 Item Present 1 times,\n",
      "1 Item Present 2 times,\n",
      "1 Item Present 3 times,\n",
      "1 Item Present 4 times,\n",
      "3 Item Present 1 times,\n",
      "3 Item Present 2 times,\n",
      "2 Item Present 1 times,\n",
      "2 Item Present 2 times,\n",
      "2 Item Present 3 times,\n",
      "2 Item Present 4 times,\n"
     ]
    }
   ],
   "source": [
    "list_ex = []\n",
    "for item in range(0,10,1):\n",
    "    val = input(\"Enter the Value : \")\n",
    "    val = val.strip()\n",
    "    val = val.upper()\n",
    "    list_ex.append(val)\n",
    "\n",
    "unique = set(list_ex)\n",
    "for item in unique:\n",
    "    count = 0\n",
    "    for val in list_ex:\n",
    "        if item == val:\n",
    "            count+=1\n",
    "            print(item,\"Item Present\",count,\"times,\")"
   ]
  },
  {
   "cell_type": "markdown",
   "metadata": {},
   "source": [
    "12-09-2023 TUESDAY"
   ]
  },
  {
   "cell_type": "code",
   "execution_count": 15,
   "metadata": {},
   "outputs": [
    {
     "name": "stdout",
     "output_type": "stream",
     "text": [
      "{'Name': 'Alwin', 'Age': 55, 'BooleanVal': True}\n",
      "=======getting the name========\n",
      "Alwin\n",
      "==========adding another key Phone===========\n",
      "{'Name': 'Alwin', 'Age': 55, 'BooleanVal': True, 'Phone': 9786586754}\n",
      "=======printing the values=========\n",
      "dict_values(['Alwin', 55, True, 9786586754])\n"
     ]
    }
   ],
   "source": [
    "my_dict={\"Name\":\"Alwin\",\n",
    "         \"Age\":55,\n",
    "         \"BooleanVal\":True}\n",
    "print(my_dict) #printing dictionary\n",
    "print(\"=======getting the name========\")\n",
    "print(my_dict[\"Name\"]) #getting the name\n",
    "print('==========adding another key Phone===========')\n",
    "my_dict[\"Phone\"]=9786586754\n",
    "print(my_dict)\n",
    "print(\"=======printing the values=========\")\n",
    "print(my_dict.values()) #printing the values\n"
   ]
  },
  {
   "cell_type": "code",
   "execution_count": 21,
   "metadata": {},
   "outputs": [
    {
     "name": "stdout",
     "output_type": "stream",
     "text": [
      "{'mscdsa': {'01': {'name': 'anand', 'phone': '1234567890'}, '02': {'name': 'abin', 'phone': '0987654321'}}}\n"
     ]
    }
   ],
   "source": [
    "student={\n",
    "    \"mscdsa\":{\n",
    "        \"01\":{\n",
    "            \"name\":\"anand\",\n",
    "            \"phone\":\"1234567890\"\n",
    "        },\n",
    "        \"02\":{\n",
    "            \"name\":\"abin\",\n",
    "            \"phone\":\"0987654321\"\n",
    "        }\n",
    "            }\n",
    "        }\n",
    "print(student)"
   ]
  },
  {
   "cell_type": "code",
   "execution_count": 44,
   "metadata": {},
   "outputs": [
    {
     "name": "stdout",
     "output_type": "stream",
     "text": [
      "[{'roll_no': 123321, 'name': 'abhidev', 'phone': 1234567890, 'email': 'abidev@christgmail.com'}, {'roll_no': 123325, 'name': 'dev', 'phone': 1234567098, 'email': 'dev@christgmail.com'}]\n",
      "==============================\n",
      "{'roll_no': 123321, 'name': 'abhidev', 'phone': 1234567890, 'email': 'abidev@christgmail.com'}\n",
      "=================================\n",
      "123321\tabhidev\t1234567890\tabidev@christgmail.com\t\n",
      "{'roll_no': 123325, 'name': 'dev', 'phone': 1234567098, 'email': 'dev@christgmail.com'}\n",
      "=================================\n",
      "123325\tdev\t1234567098\tdev@christgmail.com\t\n"
     ]
    }
   ],
   "source": [
    "mscdsa=[\n",
    "    {\n",
    "        \"roll_no\":123321,\n",
    "        \"name\":\"abhidev\",\n",
    "        \"phone\":1234567890,\n",
    "        \"email\":\"abidev@christgmail.com\"\n",
    "        },\n",
    "        {\n",
    "            \"roll_no\":123325,\n",
    "            \"name\":\"dev\",\n",
    "            \"phone\":1234567098,\n",
    "            \"email\":\"dev@christgmail.com\" \n",
    "            }\n",
    "            ]\n",
    "print(mscdsa)\n",
    "\n",
    "print('==============================')\n",
    "for student in mscdsa:\n",
    "    print(student)\n",
    "    print(\"=================================\")\n",
    "    for key in student.keys():\n",
    "        print(student[key],end=\"\\t\")\n",
    "    print()"
   ]
  },
  {
   "cell_type": "markdown",
   "metadata": {},
   "source": [
    "MENU DRIVEN PROGRAM"
   ]
  },
  {
   "cell_type": "code",
   "execution_count": null,
   "metadata": {},
   "outputs": [],
   "source": [
    "namelist=[]\n",
    "def storename():\n",
    "    name=input(\"Enter the name to be saved:\")\n",
    "    name=name.strip().title()\n",
    "    namelist.append(name)\n",
    "    return name"
   ]
  },
  {
   "cell_type": "code",
   "execution_count": null,
   "metadata": {},
   "outputs": [],
   "source": [
    "def listnames():\n",
    "    print(\"*\"*30)\n",
    "    print(\"Names in the list\")\n",
    "    print(\"*\"*30)\n",
    "    for name in namelist:\n",
    "        print(name)\n",
    "    print(\"*\"*30)"
   ]
  },
  {
   "cell_type": "code",
   "execution_count": 12,
   "metadata": {},
   "outputs": [
    {
     "name": "stdout",
     "output_type": "stream",
     "text": [
      "******************************\n",
      "1.Enter a name\n",
      "2.list of names\n",
      "search for a name\n",
      "4.exit\n",
      "******************************\n",
      "choice entered: 3\n"
     ]
    },
    {
     "ename": "NameError",
     "evalue": "name 'search' is not defined",
     "output_type": "error",
     "traceback": [
      "\u001b[1;31m---------------------------------------------------------------------------\u001b[0m",
      "\u001b[1;31mNameError\u001b[0m                                 Traceback (most recent call last)",
      "\u001b[1;32mc:\\Users\\jofin\\Desktop\\My Folder\\Data Science\\practice.ipynb Cell 15\u001b[0m line \u001b[0;36m1\n\u001b[0;32m     <a href='vscode-notebook-cell:/c%3A/Users/jofin/Desktop/My%20Folder/Data%20Science/practice.ipynb#X23sZmlsZQ%3D%3D?line=13'>14</a>\u001b[0m     listnames(name)\n\u001b[0;32m     <a href='vscode-notebook-cell:/c%3A/Users/jofin/Desktop/My%20Folder/Data%20Science/practice.ipynb#X23sZmlsZQ%3D%3D?line=14'>15</a>\u001b[0m \u001b[39melif\u001b[39;00m choice\u001b[39m==\u001b[39m\u001b[39m3\u001b[39m:\n\u001b[1;32m---> <a href='vscode-notebook-cell:/c%3A/Users/jofin/Desktop/My%20Folder/Data%20Science/practice.ipynb#X23sZmlsZQ%3D%3D?line=15'>16</a>\u001b[0m     search(namelist)\n\u001b[0;32m     <a href='vscode-notebook-cell:/c%3A/Users/jofin/Desktop/My%20Folder/Data%20Science/practice.ipynb#X23sZmlsZQ%3D%3D?line=16'>17</a>\u001b[0m \u001b[39melse\u001b[39;00m:\n\u001b[0;32m     <a href='vscode-notebook-cell:/c%3A/Users/jofin/Desktop/My%20Folder/Data%20Science/practice.ipynb#X23sZmlsZQ%3D%3D?line=17'>18</a>\u001b[0m     \u001b[39mbreak\u001b[39;00m\n",
      "\u001b[1;31mNameError\u001b[0m: name 'search' is not defined"
     ]
    }
   ],
   "source": [
    "while True:\n",
    "    print(\"*\"*30)\n",
    "    print(\"1.Enter a name\")\n",
    "    print(\"2.list of names\")\n",
    "    print(\"search for a name\")\n",
    "    print(\"4.exit\")\n",
    "    print(\"*\"*30)\n",
    "\n",
    "    choice=int(input(\"Enter the choice:\"))\n",
    "    print(\"choice entered:\",choice)\n",
    "    if choice==1:\n",
    "        name=input(\"Enter the name:\")\n",
    "    elif choice==2:\n",
    "        listnames(name)\n",
    "    elif choice==3:\n",
    "        search(name)\n",
    "    else:\n",
    "        break"
   ]
  },
  {
   "cell_type": "code",
   "execution_count": 5,
   "metadata": {},
   "outputs": [
    {
     "ename": "TypeError",
     "evalue": "can only concatenate str (not \"int\") to str",
     "output_type": "error",
     "traceback": [
      "\u001b[1;31m---------------------------------------------------------------------------\u001b[0m",
      "\u001b[1;31mTypeError\u001b[0m                                 Traceback (most recent call last)",
      "\u001b[1;32mc:\\Users\\jofin\\Desktop\\My Folder\\Data Science\\practice.ipynb Cell 16\u001b[0m line \u001b[0;36m1\n\u001b[1;32m----> <a href='vscode-notebook-cell:/c%3A/Users/jofin/Desktop/My%20Folder/Data%20Science/practice.ipynb#X26sZmlsZQ%3D%3D?line=0'>1</a>\u001b[0m \u001b[39mprint\u001b[39m(\u001b[39m\"\u001b[39;49m\u001b[39m*\u001b[39;49m\u001b[39m\"\u001b[39;49m\u001b[39m+\u001b[39;49m\u001b[39m30\u001b[39;49m)\n",
      "\u001b[1;31mTypeError\u001b[0m: can only concatenate str (not \"int\") to str"
     ]
    }
   ],
   "source": [
    "print(\"*\"+30)"
   ]
  },
  {
   "cell_type": "markdown",
   "metadata": {},
   "source": [
    "CLASS"
   ]
  },
  {
   "cell_type": "code",
   "execution_count": 8,
   "metadata": {},
   "outputs": [
    {
     "name": "stdout",
     "output_type": "stream",
     "text": [
      "alwin mca\n",
      "alwin\n",
      "<class '__main__.student'>\n"
     ]
    }
   ],
   "source": [
    "class student():\n",
    "    #data members\n",
    "    #name,email,phone\n",
    "    #member functions\n",
    "    def __init__(self):\n",
    "        self.name=\"Abith\"\n",
    "        self.email=\"abith@gmail.com\"\n",
    "        self.phone=1234567890\n",
    "\n",
    "    def printstudent(self):\n",
    "        print(\"Name:{}\\nEmail:{},\\nPhone:{}\".format(self.name,self.email,self.phone))\n",
    "        #below commented method also work\n",
    "        #print(\"Name:\",self.name,\"\\nEmail:\",self.email,\"\\nPhone:\",self.phone)\n",
    "    def __str__(self):\n",
    "        pass\n",
    "'''abith=student()\n",
    "abith.printstudent()\n",
    "print(abith.name)'''\n",
    "\n",
    "\n",
    "class student():\n",
    "    def __init__(self,a,b):\n",
    "        self.name=a\n",
    "        self.stu_class=b\n",
    "    def __str__(self):\n",
    "        return self.name\n",
    "abc=student(\"alwin\",\"mca\")\n",
    "print(abc.name,abc.stu_class)\n",
    "print(abc)\n",
    "print(type(abc))"
   ]
  },
  {
   "cell_type": "code",
   "execution_count": 1,
   "metadata": {},
   "outputs": [
    {
     "name": "stdout",
     "output_type": "stream",
     "text": [
      "rice 4 120\n"
     ]
    }
   ],
   "source": [
    "class restaurant:\n",
    "    def __init__(self,item,qty):\n",
    "        self.item=item\n",
    "        self.qty=qty\n",
    "        self.menu={\n",
    "            \"rice\":30,\n",
    "            \"chicken\":100\n",
    "        }\n",
    "    def findcost(self):\n",
    "        total=0\n",
    "        total=self.qty*self.menu[self.item]\n",
    "        print(self.item,self.qty,total)\n",
    "\n",
    "order=restaurant(\"rice\",4)\n",
    "order.findcost()"
   ]
  },
  {
   "cell_type": "code",
   "execution_count": 15,
   "metadata": {},
   "outputs": [
    {
     "name": "stdout",
     "output_type": "stream",
     "text": [
      "INCOME\n",
      "Total income\n",
      "4500\n",
      "10500\n",
      "500\n",
      "Total expense\n",
      "0\n"
     ]
    }
   ],
   "source": [
    "class expense_tracker:\n",
    "    def __init__(self):\n",
    "        self.transactions={\n",
    "            \"expenses\": [],\n",
    "            \"income\": [],\n",
    "        }\n",
    "    def store_transaction(self,type,category,cost,desc,date):\n",
    "        transaction={\n",
    "            \"category\":category,\n",
    "            \"cost\":cost,\n",
    "            \"description\":desc,\n",
    "            \"date\":date,\n",
    "        }\n",
    "        if type==\"expenses\":\n",
    "            self.transactions[\"expenses\"].append(transaction)\n",
    "        else:\n",
    "            self.transactions[\"income\"].append(transaction)\n",
    "        return True\n",
    "        # expense/income\n",
    "        # type/category\n",
    "        # cost/amount\n",
    "        # description on the transaction\n",
    "        # date (DD/MM/YYYY)\n",
    "    def view_transactions(self):\n",
    "        print(\"INCOME\")\n",
    "        for expense in self.transactions[\"expenses\"]:\n",
    "            print(expense)\n",
    "    def total_income_expense(self):\n",
    "        print(\"Total income\")\n",
    "        total_income=0\n",
    "        for income in self.transactions[\"income\"]:\n",
    "            print(income['cost'])\n",
    "        print(\"Total expense\")\n",
    "        total_expense=0\n",
    "        for expenses in self.transactions[\"expenses\"]:\n",
    "            total_income+=expenses[\"Cost\"]\n",
    "        print(total_expense)\n",
    "\n",
    "my_transactions=expense_tracker()\n",
    "my_transactions.store_transaction(\"Expense\",\"Electricity Bill\",4500,\"mdhc\",\"17/08/2023\")\n",
    "my_transactions.store_transaction(\"Income\",\"Pocket money\",10500,\"from parents\",\"20/09/2023\")\n",
    "my_transactions.store_transaction(\"Expense\",\"Food\",500,\"Cafe by valley\",\"15/09/2023\")\n",
    "\n",
    "my_transactions.view_transactions()\n",
    "my_transactions.total_income_expense()\n",
    "\n",
    "\n",
    "        \n"
   ]
  }
 ],
 "metadata": {
  "kernelspec": {
   "display_name": "Python 3",
   "language": "python",
   "name": "python3"
  },
  "language_info": {
   "codemirror_mode": {
    "name": "ipython",
    "version": 3
   },
   "file_extension": ".py",
   "mimetype": "text/x-python",
   "name": "python",
   "nbconvert_exporter": "python",
   "pygments_lexer": "ipython3",
   "version": "3.11.1"
  },
  "orig_nbformat": 4
 },
 "nbformat": 4,
 "nbformat_minor": 2
}
