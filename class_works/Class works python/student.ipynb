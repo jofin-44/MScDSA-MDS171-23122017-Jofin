{
 "cells": [
  {
   "cell_type": "code",
   "execution_count": 1,
   "metadata": {},
   "outputs": [
    {
     "name": "stdout",
     "output_type": "stream",
     "text": [
      "details of students in the class\n",
      "0 : {'Name': 'saji', 'Register_no': 1234567, 'Phone': 754321890, 'Email': 'qwerty'}\n",
      "1 : {'Name': 'qwert', 'Register_no': 134567, 'Phone': 467890, 'Email': 'asdfgh'}\n",
      "2 : {'Name': 'ssdfgh', 'Register_no': 2456, 'Phone': 456789, 'Email': 'ertyujk'}\n"
     ]
    }
   ],
   "source": [
    "#details of students in the class\n",
    "print(\"details of students in the class\")\n",
    "sd={}\n",
    "for i in range(0,3,1):\n",
    "    data={}\n",
    "    data[\"Name\"]=input(\"Name:\")\n",
    "    data[\"Register_no\"]=int(input(\"Enter the reg_no.:\"))\n",
    "    data[\"Phone\"]=int(input(\"Enter the phone number:\"))\n",
    "    data[\"Email\"]=input(\"Enter the email:\")\n",
    "    sd[i]=data\n",
    "for x in sd:\n",
    "    print(x, \":\" ,sd[x])"
   ]
  }
 ],
 "metadata": {
  "kernelspec": {
   "display_name": "Python 3",
   "language": "python",
   "name": "python3"
  },
  "language_info": {
   "codemirror_mode": {
    "name": "ipython",
    "version": 3
   },
   "file_extension": ".py",
   "mimetype": "text/x-python",
   "name": "python",
   "nbconvert_exporter": "python",
   "pygments_lexer": "ipython3",
   "version": "3.11.1"
  },
  "orig_nbformat": 4
 },
 "nbformat": 4,
 "nbformat_minor": 2
}
