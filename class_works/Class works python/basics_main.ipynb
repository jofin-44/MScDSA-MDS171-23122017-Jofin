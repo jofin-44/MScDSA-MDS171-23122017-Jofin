{
 "cells": [
  {
   "cell_type": "markdown",
   "metadata": {},
   "source": [
    "print(\"Welcome to notebook..\")"
   ]
  },
  {
   "cell_type": "code",
   "execution_count": 2,
   "metadata": {},
   "outputs": [
    {
     "name": "stdout",
     "output_type": "stream",
     "text": [
      "welcome\n"
     ]
    }
   ],
   "source": [
    "print(\"welcome\")"
   ]
  },
  {
   "cell_type": "code",
   "execution_count": 4,
   "metadata": {},
   "outputs": [
    {
     "name": "stdout",
     "output_type": "stream",
     "text": [
      "Lavasa\n"
     ]
    }
   ],
   "source": [
    "print(\"Lavasa\")"
   ]
  },
  {
   "cell_type": "code",
   "execution_count": 5,
   "metadata": {},
   "outputs": [
    {
     "name": "stdout",
     "output_type": "stream",
     "text": [
      "shift+enter\n"
     ]
    }
   ],
   "source": [
    "print(\"shift+enter\")"
   ]
  },
  {
   "cell_type": "code",
   "execution_count": 5,
   "metadata": {},
   "outputs": [
    {
     "name": "stdout",
     "output_type": "stream",
     "text": [
      " , , , ,T,h,i,s, ,i,s, ,a, ,s,t,r,i,n,g, , , ,\n",
      "\n",
      "23\n",
      "\n",
      "\n",
      "This is a string\n"
     ]
    }
   ],
   "source": [
    "#strings\n",
    "msg=\"    This is a string   \"\n",
    "for x in msg:\n",
    "    print(x,end=\",\")\n",
    "#length/number of characters\n",
    "print(\"\\n\")\n",
    "print(len(msg))\n",
    "#strip\n",
    "print(\"\\n\")\n",
    "msg=msg.strip()\n",
    "print(msg)"
   ]
  },
  {
   "cell_type": "code",
   "execution_count": 16,
   "metadata": {},
   "outputs": [
    {
     "name": "stdout",
     "output_type": "stream",
     "text": [
      "1,2,3,4,5,\n",
      "\n",
      "1,3,5,"
     ]
    }
   ],
   "source": [
    "#for loop\n",
    "#by counting one\n",
    "for i in range(1,6,1):\n",
    "    print(i,end=\",\")\n",
    "#by counting two \n",
    "print(\"\\n\")\n",
    "for i in range(1,6,2):\n",
    "    print(i,end=\",\")"
   ]
  },
  {
   "cell_type": "code",
   "execution_count": 1,
   "metadata": {},
   "outputs": [
    {
     "name": "stdout",
     "output_type": "stream",
     "text": [
      "printing the list\n",
      "['Item 1', 'Item 2', 10, 23, 45]\n",
      "printing list items one by one\n",
      "Item 1\n",
      "Item 2\n",
      "10\n",
      "23\n",
      "45\n",
      "printing each value from list by accessing the index\n",
      "23\n",
      "print type\n",
      "<class 'list'>\n"
     ]
    }
   ],
   "source": [
    "print(\"printing the list\")\n",
    "listex=[\"Item 1\",\"Item 2\",10,23,45]\n",
    "print(listex)\n",
    "#printing list items one by one\n",
    "print(\"printing list items one by one\")\n",
    "for i in listex:\n",
    "    print(i)\n",
    "#printing each value from list\n",
    "print(\"printing each value from list by accessing the index\")\n",
    "print(listex[3])\n",
    "#print type\n",
    "print(\"print type\")\n",
    "print(type(listex))"
   ]
  },
  {
   "cell_type": "code",
   "execution_count": 4,
   "metadata": {},
   "outputs": [
    {
     "name": "stdout",
     "output_type": "stream",
     "text": [
      "hai..\n"
     ]
    }
   ],
   "source": [
    "#functions in string\n",
    "#split() & strip()\n",
    "#tab space -\"\\t\" & next line \"\\n\"\n",
    "\n",
    "a= \"\\t  hai.. \\n\"\n",
    "a=a.strip()\n",
    "print(a)"
   ]
  },
  {
   "cell_type": "code",
   "execution_count": 16,
   "metadata": {},
   "outputs": [
    {
     "name": "stdout",
     "output_type": "stream",
     "text": [
      "['hello', 'this', 'is', 'a', 'string']\n",
      "['hello th', ' ', ' a string']\n",
      "\n",
      "\n",
      "JOFIN\n",
      "jofin\n",
      "jOfIn\n"
     ]
    }
   ],
   "source": [
    "#split - to separate words\n",
    "a=\"hello this is a string\"\n",
    "b=a.split(' ') \n",
    "print(b)\n",
    "\n",
    "#if a letter doesnot need just type it in bracket split(); here:-split('is') ,then all the is are removed\n",
    "a=\"hello this is a string\"\n",
    "b=a.split('is') \n",
    "print(b)\n",
    "\n",
    "print(\"\\n\")\n",
    "#upper,lower,swapcase\n",
    "print(\"joFIn\".upper())\n",
    "print(\"JOFIN\".lower())\n",
    "print(\"JoFiN\".swapcase())"
   ]
  },
  {
   "cell_type": "markdown",
   "metadata": {},
   "source": []
  },
  {
   "cell_type": "code",
   "execution_count": 24,
   "metadata": {},
   "outputs": [
    {
     "name": "stdout",
     "output_type": "stream",
     "text": [
      "owareyo\n",
      "uoyerawoholleh\n",
      "lloh\n"
     ]
    }
   ],
   "source": [
    "#slicing\n",
    "msg=\"hellohowareyou\"\n",
    "print(msg[6:13])\n",
    "print(msg[::-1]) #reverse\n",
    "print(msg[2:6])"
   ]
  },
  {
   "cell_type": "code",
   "execution_count": 3,
   "metadata": {},
   "outputs": [
    {
     "name": "stdout",
     "output_type": "stream",
     "text": [
      "Your name is tony from class 8.\n"
     ]
    }
   ],
   "source": [
    "#typing name and class\n",
    "name=input(\"Enter the name:\")\n",
    "nclass=int(input(\"Enter the class:\"))\n",
    "print(\"Your name is {} from class {}.\".format(name,nclass))"
   ]
  },
  {
   "cell_type": "code",
   "execution_count": 7,
   "metadata": {},
   "outputs": [
    {
     "name": "stdout",
     "output_type": "stream",
     "text": [
      "['2', '3', '5', '7', '2', '8']\n",
      "2 <class 'str'> 2 <class 'int'>\n",
      "3 <class 'str'> 3 <class 'int'>\n",
      "5 <class 'str'> 5 <class 'int'>\n",
      "7 <class 'str'> 7 <class 'int'>\n",
      "2 <class 'str'> 2 <class 'int'>\n",
      "8 <class 'str'> 8 <class 'int'>\n"
     ]
    }
   ],
   "source": [
    "numbers=\"2,3,5,7,2,8\"\n",
    "n=numbers.split(\",\")\n",
    "print(n)\n",
    "for item in n: #accessing the numbers by calling them as item\n",
    "    temp=int(item) #converting into integer\n",
    "    print(item,type(item),temp,type(temp)) #printing the item and its type then again printing type after coverting it into integer"
   ]
  },
  {
   "cell_type": "code",
   "execution_count": 11,
   "metadata": {},
   "outputs": [
    {
     "name": "stdout",
     "output_type": "stream",
     "text": [
      "2,3,5,7,2,8\n",
      "sum = 27\n"
     ]
    }
   ],
   "source": [
    "print(numbers) #finding the sum of numbers above mentioned\n",
    "s=0\n",
    "for item in n:\n",
    "    temp=int(item)\n",
    "    s=s+temp\n",
    "print(\"sum =\" ,s)"
   ]
  },
  {
   "cell_type": "code",
   "execution_count": 22,
   "metadata": {},
   "outputs": [
    {
     "name": "stdout",
     "output_type": "stream",
     "text": [
      "two is found\n",
      "['one', 'TWO', 'three', 'four']\n"
     ]
    }
   ],
   "source": [
    "listex=[\"one\",\"two\",\"three\",\"four\"]\n",
    "if \"two\" in listex:\n",
    "    print(\"two is found\")\n",
    "listex[1]=\"TWO\"\n",
    "print(listex)"
   ]
  },
  {
   "cell_type": "code",
   "execution_count": 32,
   "metadata": {},
   "outputs": [
    {
     "name": "stdout",
     "output_type": "stream",
     "text": [
      "['TWO', 'four', 'one', 'three', 'five', 'six', 'seven', 'eight']\n"
     ]
    }
   ],
   "source": [
    "newlist=[\"five\",\"six\",\"seven\"] #adding the previous list with new list\n",
    "newlist.append(\"eight\") #appending to list\n",
    "new=listex+newlist\n",
    "print(new)"
   ]
  },
  {
   "cell_type": "code",
   "execution_count": 48,
   "metadata": {},
   "outputs": [
    {
     "name": "stdout",
     "output_type": "stream",
     "text": [
      "['eleven', 'thirteen']\n",
      "['eleven', 'fourteen', 'thirteen']\n",
      "['thirteen', 'fourteen', 'eleven']\n"
     ]
    }
   ],
   "source": [
    "nlist=[\"eleven\",\"twelve\",\"thirteen\"]\n",
    "nlist.remove(\"twelve\") #remove accepts strings and numbers\n",
    "print(nlist)\n",
    "nlist.append(6)\n",
    "nlist.remove(6) #pop accepts index value\n",
    "nlist.append(\"fourteen\")\n",
    "nlist.sort() #sorting the elements in the list\n",
    "print(nlist)\n",
    "nlist.reverse() #reversing\n",
    "print(nlist)"
   ]
  },
  {
   "cell_type": "code",
   "execution_count": 1,
   "metadata": {},
   "outputs": [
    {
     "name": "stdout",
     "output_type": "stream",
     "text": [
      "Hi I am your first function\n",
      "('Success', True)\n"
     ]
    }
   ],
   "source": [
    "def fun():\n",
    "    print(\"Hi I am your first function\")\n",
    "    return(\"Success\",True)\n",
    "name=\"jof\"\n",
    "ret=fun()\n",
    "print(ret)"
   ]
  },
  {
   "cell_type": "markdown",
   "metadata": {},
   "source": [
    "1)Define a function that takes a list of numbers as input and return the sum of numbers,without any predefined functions"
   ]
  },
  {
   "cell_type": "code",
   "execution_count": 10,
   "metadata": {},
   "outputs": [
    {
     "data": {
      "text/plain": [
       "15"
      ]
     },
     "execution_count": 10,
     "metadata": {},
     "output_type": "execute_result"
    }
   ],
   "source": [
    "mylist=[1,3,5,4,2]\n",
    "def sum(a):\n",
    "    s=0\n",
    "    for i in a:\n",
    "        s=s+i\n",
    "    return(s)\n",
    "sum(mylist)\n"
   ]
  },
  {
   "cell_type": "markdown",
   "metadata": {},
   "source": [
    "2)collect user input with coma separated values"
   ]
  },
  {
   "cell_type": "markdown",
   "metadata": {},
   "source": [
    "3)Count the number odd and even numbers in the list and print the odd numbers count and even numbers countalong with the numbers (You will have a function that will take a list of numbers,then returns the count of odd numbers and even numbers"
   ]
  },
  {
   "cell_type": "markdown",
   "metadata": {},
   "source": [
    "FILE HANDLING"
   ]
  },
  {
   "cell_type": "code",
   "execution_count": 12,
   "metadata": {},
   "outputs": [],
   "source": [
    "file=open(\"samplefile.txt\",\"w+\")"
   ]
  },
  {
   "cell_type": "code",
   "execution_count": 13,
   "metadata": {},
   "outputs": [
    {
     "data": {
      "text/plain": [
       "138"
      ]
     },
     "execution_count": 13,
     "metadata": {},
     "output_type": "execute_result"
    }
   ],
   "source": [
    "file.write(\"This is the first line in the file.\\nUsing a+ to append and w+ used for writing and if you run again,\\nthe stuffs you wrote will be replaced\")"
   ]
  },
  {
   "cell_type": "code",
   "execution_count": 14,
   "metadata": {},
   "outputs": [],
   "source": [
    "file.close()"
   ]
  },
  {
   "cell_type": "markdown",
   "metadata": {},
   "source": [
    "Reading the lines"
   ]
  },
  {
   "cell_type": "code",
   "execution_count": 16,
   "metadata": {},
   "outputs": [
    {
     "data": {
      "text/plain": [
       "['This is the first line in the file.\\n',\n",
       " 'Using a+ to append and w+ used for writing and if you run again,\\n',\n",
       " 'the stuffs you wrote will be replaced']"
      ]
     },
     "execution_count": 16,
     "metadata": {},
     "output_type": "execute_result"
    }
   ],
   "source": [
    "file_read=open(\"samplefile.txt\",\"r+\")\n",
    "file_read.readlines() #if it is readline() then it will read only one line"
   ]
  },
  {
   "cell_type": "markdown",
   "metadata": {},
   "source": [
    "Q)Write a function,that accepts your details and save into a file"
   ]
  },
  {
   "cell_type": "code",
   "execution_count": 1,
   "metadata": {},
   "outputs": [
    {
     "ename": "TypeError",
     "evalue": "TextIOWrapper.write() takes exactly one argument (2 given)",
     "output_type": "error",
     "traceback": [
      "\u001b[1;31m---------------------------------------------------------------------------\u001b[0m",
      "\u001b[1;31mTypeError\u001b[0m                                 Traceback (most recent call last)",
      "Cell \u001b[1;32mIn[1], line 11\u001b[0m\n\u001b[0;32m      9\u001b[0m phone\u001b[39m=\u001b[39m\u001b[39mint\u001b[39m(\u001b[39minput\u001b[39m(\u001b[39m\"\u001b[39m\u001b[39mPhone:\u001b[39m\u001b[39m\"\u001b[39m))\n\u001b[0;32m     10\u001b[0m email\u001b[39m=\u001b[39m\u001b[39minput\u001b[39m(\u001b[39m\"\u001b[39m\u001b[39mEmail:\u001b[39m\u001b[39m\"\u001b[39m)\n\u001b[1;32m---> 11\u001b[0m ret\u001b[39m=\u001b[39mdetails(name,phone,email)\n\u001b[0;32m     12\u001b[0m \u001b[39mif\u001b[39;00m ret:\n\u001b[0;32m     13\u001b[0m     \u001b[39mprint\u001b[39m(\u001b[39m\"\u001b[39m\u001b[39mYour details are saved..!\u001b[39m\u001b[39m\"\u001b[39m)\n",
      "Cell \u001b[1;32mIn[1], line 3\u001b[0m, in \u001b[0;36mdetails\u001b[1;34m(name, phone, email)\u001b[0m\n\u001b[0;32m      1\u001b[0m \u001b[39mdef\u001b[39;00m \u001b[39mdetails\u001b[39m(name,phone,email):\n\u001b[0;32m      2\u001b[0m     details\u001b[39m=\u001b[39m\u001b[39mopen\u001b[39m(\u001b[39m\"\u001b[39m\u001b[39mmydetails.txt\u001b[39m\u001b[39m\"\u001b[39m,\u001b[39m\"\u001b[39m\u001b[39mw+\u001b[39m\u001b[39m\"\u001b[39m) \n\u001b[1;32m----> 3\u001b[0m     details\u001b[39m.\u001b[39;49mwrite(\u001b[39m\"\u001b[39;49m\u001b[39mname\u001b[39;49m\u001b[39m\\t\u001b[39;49;00m\u001b[39m:\u001b[39;49m\u001b[39m\\t\u001b[39;49;00m\u001b[39m\"\u001b[39;49m,name)\n\u001b[0;32m      4\u001b[0m     details\u001b[39m.\u001b[39mwrite(\u001b[39m\"\u001b[39m\u001b[39m\\n\u001b[39;00m\u001b[39mphone\u001b[39m\u001b[39m\\t\u001b[39;00m\u001b[39m:\u001b[39m\u001b[39m\\t\u001b[39;00m\u001b[39m\"\u001b[39m,phone)\n\u001b[0;32m      5\u001b[0m     details\u001b[39m.\u001b[39mwrite(\u001b[39m\"\u001b[39m\u001b[39m\\n\u001b[39;00m\u001b[39mEmail\u001b[39m\u001b[39m\\t\u001b[39;00m\u001b[39m:\u001b[39m\u001b[39m\\t\u001b[39;00m\u001b[39m\"\u001b[39m,email)\n",
      "\u001b[1;31mTypeError\u001b[0m: TextIOWrapper.write() takes exactly one argument (2 given)"
     ]
    }
   ],
   "source": [
    "def details(name,phone,email):\n",
    "    details=open(\"mydetails.txt\",\"w+\") \n",
    "    details.write(\"name\\t:\\t\",name)\n",
    "    details.write(\"\\nphone\\t:\\t\",phone)\n",
    "    details.write(\"\\nEmail\\t:\\t\",email)\n",
    "    details.close()\n",
    "    return True\n",
    "name=input(\"Name:\")\n",
    "phone=int(input(\"Phone:\"))\n",
    "email=input(\"Email:\")\n",
    "ret=details(name,phone,email)\n",
    "if ret:\n",
    "    print(\"Your details are saved..!\")\n",
    "    print(\"*\"*30)\n",
    "    #for line in open(name+\".txt\",\"r+\").readline():\n",
    "file=open(name,\".txt\",\"r+\")\n",
    "file_lines = file.readlines()\n",
    "for line in file_lines:\n",
    "    print(line)"
   ]
  },
  {
   "cell_type": "code",
   "execution_count": 3,
   "metadata": {},
   "outputs": [
    {
     "name": "stdout",
     "output_type": "stream",
     "text": [
      "[[1 2 3]\n",
      " [4 5 6]\n",
      " [7 8 9]]\n"
     ]
    }
   ],
   "source": [
    "import numpy as np\n",
    "a=np.array([1,2,3,4,5,6,7,8,9])\n",
    "print(a.reshape(3,3))\n"
   ]
  },
  {
   "cell_type": "code",
   "execution_count": 8,
   "metadata": {},
   "outputs": [
    {
     "data": {
      "text/plain": [
       "array([1., 1., 1., 1., 1., 1., 1., 1., 1., 1., 1., 1., 1., 1., 1., 1., 1.,\n",
       "       1., 1., 1., 1., 1., 1., 1., 1., 1., 1., 1., 1., 1., 1., 1., 1., 1.,\n",
       "       1., 1., 1., 1., 1., 1., 1., 1., 1., 1., 1., 1., 1., 1., 1., 1., 1.,\n",
       "       1., 1., 1., 1., 1., 1., 1., 1., 1., 1., 1., 1., 1., 1., 1., 1., 1.,\n",
       "       1., 1., 1., 1., 1., 1., 1., 1., 1., 1., 1., 1., 1., 1., 1., 1., 1.,\n",
       "       1., 1., 1., 1., 1., 1., 1., 1., 1., 1., 1., 1., 1., 1., 1.])"
      ]
     },
     "execution_count": 8,
     "metadata": {},
     "output_type": "execute_result"
    }
   ],
   "source": [
    "np.ones(100)"
   ]
  },
  {
   "cell_type": "code",
   "execution_count": 9,
   "metadata": {},
   "outputs": [
    {
     "data": {
      "text/plain": [
       "array([0., 0., 0., 0., 0., 0., 0., 0., 0., 0., 0., 0., 0., 0., 0., 0., 0.,\n",
       "       0., 0., 0., 0., 0., 0., 0., 0., 0., 0., 0., 0., 0., 0., 0., 0., 0.,\n",
       "       0., 0., 0., 0., 0., 0., 0., 0., 0., 0., 0., 0., 0., 0., 0., 0.])"
      ]
     },
     "execution_count": 9,
     "metadata": {},
     "output_type": "execute_result"
    }
   ],
   "source": [
    "np.zeros(50)"
   ]
  },
  {
   "cell_type": "code",
   "execution_count": 5,
   "metadata": {},
   "outputs": [],
   "source": [
    "import pandas as pd"
   ]
  },
  {
   "cell_type": "code",
   "execution_count": 18,
   "metadata": {},
   "outputs": [
    {
     "name": "stdout",
     "output_type": "stream",
     "text": [
      "{'Name': ['Abhidev SP', 'John George Thattil', 'Jaise George', 'Adharsh Jaison', 'Amrutha Paalathara'], 'Age': [18, 21, 23, 34, 78]}\n"
     ]
    }
   ],
   "source": [
    "student={\n",
    "    \"Name\":[\"Abhidev SP\",\"John George Thattil\",\"Jaise George\",\"Adharsh Jaison\",\"Amrutha Paalathara\"],\n",
    "    \"Age\":[18,21,23,34,78]\n",
    "}\n",
    "print(student)"
   ]
  },
  {
   "cell_type": "code",
   "execution_count": 19,
   "metadata": {},
   "outputs": [],
   "source": [
    "df=pd.DataFrame(student)"
   ]
  },
  {
   "cell_type": "code",
   "execution_count": 20,
   "metadata": {},
   "outputs": [
    {
     "name": "stdout",
     "output_type": "stream",
     "text": [
      "                  Name  Age\n",
      "0           Abhidev SP   18\n",
      "1  John George Thattil   21\n",
      "2         Jaise George   23\n",
      "3       Adharsh Jaison   34\n",
      "4   Amrutha Paalathara   78\n"
     ]
    }
   ],
   "source": [
    "#print(df.head())\n",
    "print(df.tail())"
   ]
  },
  {
   "cell_type": "code",
   "execution_count": 23,
   "metadata": {},
   "outputs": [
    {
     "data": {
      "text/html": [
       "<div>\n",
       "<style scoped>\n",
       "    .dataframe tbody tr th:only-of-type {\n",
       "        vertical-align: middle;\n",
       "    }\n",
       "\n",
       "    .dataframe tbody tr th {\n",
       "        vertical-align: top;\n",
       "    }\n",
       "\n",
       "    .dataframe thead th {\n",
       "        text-align: right;\n",
       "    }\n",
       "</style>\n",
       "<table border=\"1\" class=\"dataframe\">\n",
       "  <thead>\n",
       "    <tr style=\"text-align: right;\">\n",
       "      <th></th>\n",
       "      <th>Name</th>\n",
       "      <th>Age</th>\n",
       "    </tr>\n",
       "  </thead>\n",
       "  <tbody>\n",
       "    <tr>\n",
       "      <th>0</th>\n",
       "      <td>Abhidev SP</td>\n",
       "      <td>18</td>\n",
       "    </tr>\n",
       "    <tr>\n",
       "      <th>1</th>\n",
       "      <td>John George Thattil</td>\n",
       "      <td>21</td>\n",
       "    </tr>\n",
       "    <tr>\n",
       "      <th>2</th>\n",
       "      <td>Jaise George</td>\n",
       "      <td>23</td>\n",
       "    </tr>\n",
       "    <tr>\n",
       "      <th>3</th>\n",
       "      <td>Adharsh Jaison</td>\n",
       "      <td>34</td>\n",
       "    </tr>\n",
       "    <tr>\n",
       "      <th>4</th>\n",
       "      <td>Amrutha Paalathara</td>\n",
       "      <td>78</td>\n",
       "    </tr>\n",
       "  </tbody>\n",
       "</table>\n",
       "</div>"
      ],
      "text/plain": [
       "                  Name  Age\n",
       "0           Abhidev SP   18\n",
       "1  John George Thattil   21\n",
       "2         Jaise George   23\n",
       "3       Adharsh Jaison   34\n",
       "4   Amrutha Paalathara   78"
      ]
     },
     "execution_count": 23,
     "metadata": {},
     "output_type": "execute_result"
    }
   ],
   "source": [
    "df"
   ]
  },
  {
   "cell_type": "code",
   "execution_count": null,
   "metadata": {},
   "outputs": [],
   "source": []
  }
 ],
 "metadata": {
  "kernelspec": {
   "display_name": "Python 3",
   "language": "python",
   "name": "python3"
  },
  "language_info": {
   "codemirror_mode": {
    "name": "ipython",
    "version": 3
   },
   "file_extension": ".py",
   "mimetype": "text/x-python",
   "name": "python",
   "nbconvert_exporter": "python",
   "pygments_lexer": "ipython3",
   "version": "3.11.1"
  },
  "orig_nbformat": 4
 },
 "nbformat": 4,
 "nbformat_minor": 2
}
