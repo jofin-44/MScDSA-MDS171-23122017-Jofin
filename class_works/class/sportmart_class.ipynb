{
 "cells": [
  {
   "cell_type": "markdown",
   "metadata": {},
   "source": [
    "#1.Create a sportmart class,where you will have\n",
    "#->inventory/shelf of items\n",
    "#->Orders of customers\n",
    "\n",
    "#2.Create csv file which will store your inventory details and order details\n",
    "\n",
    "#With the help of file handling techniques in python ,read the file and create an object for the trinity store and populate the inventory items and orders #into the trinity store.\n",
    "\n",
    "#to make sure that you have added all the items in your file use a display method to show your inventory and order history"
   ]
  },
  {
   "cell_type": "code",
   "execution_count": 1,
   "metadata": {},
   "outputs": [
    {
     "ename": "FileNotFoundError",
     "evalue": "[Errno 2] No such file or directory: 'orders.csv'",
     "output_type": "error",
     "traceback": [
      "\u001b[1;31m---------------------------------------------------------------------------\u001b[0m",
      "\u001b[1;31mFileNotFoundError\u001b[0m                         Traceback (most recent call last)",
      "\u001b[1;32mc:\\Users\\jofin\\Desktop\\My Folder\\Data Science\\Class works python\\class\\sportmart_class.ipynb Cell 2\u001b[0m line \u001b[0;36m3\n\u001b[0;32m     <a href='vscode-notebook-cell:/c%3A/Users/jofin/Desktop/My%20Folder/Data%20Science/Class%20works%20python/class/sportmart_class.ipynb#W1sZmlsZQ%3D%3D?line=28'>29</a>\u001b[0m         \u001b[39mprint\u001b[39m(\u001b[39mself\u001b[39m\u001b[39m.\u001b[39minventory)\n\u001b[0;32m     <a href='vscode-notebook-cell:/c%3A/Users/jofin/Desktop/My%20Folder/Data%20Science/Class%20works%20python/class/sportmart_class.ipynb#W1sZmlsZQ%3D%3D?line=31'>32</a>\u001b[0m trinity \u001b[39m=\u001b[39m sportmart()\n\u001b[1;32m---> <a href='vscode-notebook-cell:/c%3A/Users/jofin/Desktop/My%20Folder/Data%20Science/Class%20works%20python/class/sportmart_class.ipynb#W1sZmlsZQ%3D%3D?line=32'>33</a>\u001b[0m orders \u001b[39m=\u001b[39m \u001b[39mopen\u001b[39;49m(\u001b[39m\"\u001b[39;49m\u001b[39morders.csv\u001b[39;49m\u001b[39m\"\u001b[39;49m,\u001b[39m\"\u001b[39;49m\u001b[39mr\u001b[39;49m\u001b[39m\"\u001b[39;49m)\n\u001b[0;32m     <a href='vscode-notebook-cell:/c%3A/Users/jofin/Desktop/My%20Folder/Data%20Science/Class%20works%20python/class/sportmart_class.ipynb#W1sZmlsZQ%3D%3D?line=33'>34</a>\u001b[0m o_header \u001b[39m=\u001b[39m orders\u001b[39m.\u001b[39mreadline()\n\u001b[0;32m     <a href='vscode-notebook-cell:/c%3A/Users/jofin/Desktop/My%20Folder/Data%20Science/Class%20works%20python/class/sportmart_class.ipynb#W1sZmlsZQ%3D%3D?line=34'>35</a>\u001b[0m o_data \u001b[39m=\u001b[39m orders\u001b[39m.\u001b[39mreadlines()\n",
      "File \u001b[1;32m~\\AppData\\Roaming\\Python\\Python311\\site-packages\\IPython\\core\\interactiveshell.py:284\u001b[0m, in \u001b[0;36m_modified_open\u001b[1;34m(file, *args, **kwargs)\u001b[0m\n\u001b[0;32m    277\u001b[0m \u001b[39mif\u001b[39;00m file \u001b[39min\u001b[39;00m {\u001b[39m0\u001b[39m, \u001b[39m1\u001b[39m, \u001b[39m2\u001b[39m}:\n\u001b[0;32m    278\u001b[0m     \u001b[39mraise\u001b[39;00m \u001b[39mValueError\u001b[39;00m(\n\u001b[0;32m    279\u001b[0m         \u001b[39mf\u001b[39m\u001b[39m\"\u001b[39m\u001b[39mIPython won\u001b[39m\u001b[39m'\u001b[39m\u001b[39mt let you open fd=\u001b[39m\u001b[39m{\u001b[39;00mfile\u001b[39m}\u001b[39;00m\u001b[39m by default \u001b[39m\u001b[39m\"\u001b[39m\n\u001b[0;32m    280\u001b[0m         \u001b[39m\"\u001b[39m\u001b[39mas it is likely to crash IPython. If you know what you are doing, \u001b[39m\u001b[39m\"\u001b[39m\n\u001b[0;32m    281\u001b[0m         \u001b[39m\"\u001b[39m\u001b[39myou can use builtins\u001b[39m\u001b[39m'\u001b[39m\u001b[39m open.\u001b[39m\u001b[39m\"\u001b[39m\n\u001b[0;32m    282\u001b[0m     )\n\u001b[1;32m--> 284\u001b[0m \u001b[39mreturn\u001b[39;00m io_open(file, \u001b[39m*\u001b[39;49margs, \u001b[39m*\u001b[39;49m\u001b[39m*\u001b[39;49mkwargs)\n",
      "\u001b[1;31mFileNotFoundError\u001b[0m: [Errno 2] No such file or directory: 'orders.csv'"
     ]
    }
   ],
   "source": [
    "class sportmart:\n",
    "    def __init__(self):\n",
    "        self.inventory={}\n",
    "        self.orders={}\n",
    "\n",
    "    def createInventory(self,ProductID,ProductName,Quantity,Price):\n",
    "        temp = {\n",
    "            \"productid\" : ProductID,\n",
    "            \"productname\" : ProductName,\n",
    "            \"quantity\" : Quantity,\n",
    "            \"price\" : Price\n",
    "        }\n",
    "        self.inventory[ProductID] = temp\n",
    "\n",
    "    def createOrder(self,Orderid,ProductID,Quantity,price,total):\n",
    "        temp = {\n",
    "            \"orderid\" : Orderid,\n",
    "            \"productid\" : ProductID,\n",
    "            \"quantity\" : Quantity,\n",
    "            \"price\" : price,\n",
    "            \"total\" : total\n",
    "        }\n",
    "        self.orders[Orderid] = temp\n",
    "\n",
    "    def printOrders(self):\n",
    "        print(self.orders)\n",
    "\n",
    "    def printInventory(self):\n",
    "        print(self.inventory)\n",
    "\n",
    "\n",
    "trinity = sportmart()\n",
    "orders = open(\"orders.csv\",\"r\")\n",
    "o_header = orders.readline()\n",
    "o_data = orders.readlines()\n",
    "for data in o_data:\n",
    "    tmp = data.strip().split(\",\")\n",
    "    trinity.createOrder(tmp[0],tmp[1],tmp[2],tmp[3],tmp[4])\n",
    "\n",
    "trinity.printOrders()\n",
    "\n",
    "inventory = open(\"inventory.csv\",\"r\")\n",
    "i_header = inventory.readline()\n",
    "i_data = inventory.readlines()\n",
    "for data in i_data:\n",
    "    tmp = data.strip().split(\",\")\n",
    "    trinity.createInventory(tmp[0],tmp[1],tmp[2],tmp[3])\n",
    "\n",
    "trinity.printInventory()\n",
    "\n",
    "print(\"\\n\")\n",
    "print(\"1.show list\")\n",
    "print(\"2.Add orders\")\n",
    "print(\"3.Update the cuurrent one\")\n",
    "print(\"4.Exit\")\n",
    "\n"
   ]
  },
  {
   "cell_type": "markdown",
   "metadata": {},
   "source": [
    "OUTPUT\n",
    "\n",
    "\n",
    "{'OD0001': {'orderid': 'OD0001', 'productid': 'PID001', 'quantity': '2', 'price': '1000', 'total': '2000'}, 'OD0002': {'orderid': 'OD0002', 'productid': 'PID002', 'quantity': '5', 'price': '1500', 'total': '7500'}, 'OD0003': {'orderid': 'OD0003', 'productid': 'PID003', 'quantity': '2', 'price': '300', 'total': '600'}, 'OD0004': {'orderid': 'OD0004', 'productid': 'PID004', 'quantity': '6', 'price': '400', 'total': '2400'}, 'OD0005': {'orderid': 'OD0005', 'productid': 'PID005', 'quantity': '9', 'price': '6700', 'total': '60300'}, 'OD0006': {'orderid': 'OD0006', 'productid': 'PID006', 'quantity': '4', 'price': '3400', 'total': '13600'}, 'OD0007': {'orderid': 'OD0007', 'productid': 'PID001', 'quantity': '1', 'price': '2000', 'total': '2000'}, 'OD0008': {'orderid': 'OD0008', 'productid': 'PID002', 'quantity': '8', 'price': '5600', 'total': '44800'}, 'OD0009': {'orderid': 'OD0009', 'productid': 'PID005', 'quantity': '8', 'price': '450', 'total': '3600'}, 'OD0010': {'orderid': 'OD0010', 'productid': 'PID006', 'quantity': '5', 'price': '3456', 'total': '17280'}}\n",
    "{'PID001': {'productid': 'PID001', 'productname': 'Bat', 'quantity': '89', 'price': '1000'}, 'PID002': {'productid': 'PID002', 'productname': 'Ball', 'quantity': '50', 'price': '1500'}, 'PID003': {'productid': 'PID003', 'productname': 'Badminton Racket', 'quantity': '230', 'price': '300'}, 'PID004': {'productid': 'PID004', 'productname': 'Stumps', 'quantity': '1000', 'price': '400'}, 'PID005': {'productid': 'PID005', 'productname': 'Football', 'quantity': '500', 'price': '6700'}, 'PID006': {'productid': 'PID006', 'productname': 'Basket Ball', 'quantity': '300', 'price': '3400'}}\n"
   ]
  },
  {
   "cell_type": "code",
   "execution_count": 6,
   "metadata": {},
   "outputs": [
    {
     "name": "stdout",
     "output_type": "stream",
     "text": [
      "tcr\n",
      "19\n"
     ]
    }
   ],
   "source": [
    "mydict={\"name\":\"shibbu\",\"age\":19,\"place\":\"tcr\"}\n",
    "print(mydict[\"place\"])\n",
    "print(mydict[\"age\"])\n"
   ]
  },
  {
   "cell_type": "code",
   "execution_count": null,
   "metadata": {},
   "outputs": [],
   "source": []
  }
 ],
 "metadata": {
  "kernelspec": {
   "display_name": "Python 3",
   "language": "python",
   "name": "python3"
  },
  "language_info": {
   "codemirror_mode": {
    "name": "ipython",
    "version": 3
   },
   "file_extension": ".py",
   "mimetype": "text/x-python",
   "name": "python",
   "nbconvert_exporter": "python",
   "pygments_lexer": "ipython3",
   "version": "3.11.1"
  }
 },
 "nbformat": 4,
 "nbformat_minor": 2
}
