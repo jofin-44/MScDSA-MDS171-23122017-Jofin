{
 "cells": [
  {
   "cell_type": "code",
   "execution_count": 42,
   "metadata": {},
   "outputs": [
    {
     "name": "stdout",
     "output_type": "stream",
     "text": [
      "\n",
      "\n",
      "1.show list\n",
      "2.add orders\n",
      "3.search\n",
      "4.Exit\n"
     ]
    },
    {
     "name": "stdout",
     "output_type": "stream",
     "text": [
      "{'OD0001': {'orderid': 'OD0001', 'productid': 'PID001', 'quantity': '2', 'price': '1000', 'total': '2000'}, 'OD0002': {'orderid': 'OD0002', 'productid': 'PID002', 'quantity': '5', 'price': '1500', 'total': '7500'}, 'OD0003': {'orderid': 'OD0003', 'productid': 'PID003', 'quantity': '2', 'price': '300', 'total': '600'}, 'OD0004': {'orderid': 'OD0004', 'productid': 'PID004', 'quantity': '6', 'price': '400', 'total': '2400'}, 'OD0005': {'orderid': 'OD0005', 'productid': 'PID005', 'quantity': '9', 'price': '6700', 'total': '60300'}, 'OD0006': {'orderid': 'OD0006', 'productid': 'PID006', 'quantity': '4', 'price': '3400', 'total': '13600'}, 'OD0007': {'orderid': 'OD0007', 'productid': 'PID001', 'quantity': '1', 'price': '2000', 'total': '2000'}, 'OD0008': {'orderid': 'OD0008', 'productid': 'PID002', 'quantity': '8', 'price': '5600', 'total': '44800'}, 'OD0009': {'orderid': 'OD0009', 'productid': 'PID005', 'quantity': '8', 'price': '450', 'total': '3600'}, 'OD0010': {'orderid': 'OD0010', 'productid': 'PID006', 'quantity': '5', 'price': '3456', 'total': '17280'}}\n",
      "\n",
      "\n",
      "1.show list\n",
      "2.add orders\n",
      "3.search\n",
      "4.Exit\n"
     ]
    },
    {
     "ename": "KeyboardInterrupt",
     "evalue": "Interrupted by user",
     "output_type": "error",
     "traceback": [
      "\u001b[1;31m---------------------------------------------------------------------------\u001b[0m",
      "\u001b[1;31mKeyboardInterrupt\u001b[0m                         Traceback (most recent call last)",
      "\u001b[1;32mc:\\Users\\jofin\\Desktop\\My Folder\\Data Science\\class\\chumma.ipynb Cell 1\u001b[0m line \u001b[0;36m8\n\u001b[0;32m     <a href='vscode-notebook-cell:/c%3A/Users/jofin/Desktop/My%20Folder/Data%20Science/class/chumma.ipynb#W0sZmlsZQ%3D%3D?line=80'>81</a>\u001b[0m Orderid\u001b[39m=\u001b[39m \u001b[39minput\u001b[39m(\u001b[39m\"\u001b[39m\u001b[39mEnter the product id:\u001b[39m\u001b[39m\"\u001b[39m)\n\u001b[0;32m     <a href='vscode-notebook-cell:/c%3A/Users/jofin/Desktop/My%20Folder/Data%20Science/class/chumma.ipynb#W0sZmlsZQ%3D%3D?line=81'>82</a>\u001b[0m ProductID \u001b[39m=\u001b[39m \u001b[39minput\u001b[39m(\u001b[39m\"\u001b[39m\u001b[39mEnter the product name:\u001b[39m\u001b[39m\"\u001b[39m)\n\u001b[1;32m---> <a href='vscode-notebook-cell:/c%3A/Users/jofin/Desktop/My%20Folder/Data%20Science/class/chumma.ipynb#W0sZmlsZQ%3D%3D?line=82'>83</a>\u001b[0m Quantity \u001b[39m=\u001b[39m \u001b[39minput\u001b[39;49m(\u001b[39m\"\u001b[39;49m\u001b[39mEnter the quantity:\u001b[39;49m\u001b[39m\"\u001b[39;49m)\n\u001b[0;32m     <a href='vscode-notebook-cell:/c%3A/Users/jofin/Desktop/My%20Folder/Data%20Science/class/chumma.ipynb#W0sZmlsZQ%3D%3D?line=83'>84</a>\u001b[0m price \u001b[39m=\u001b[39m \u001b[39minput\u001b[39m(\u001b[39m\"\u001b[39m\u001b[39mEnter the price:\u001b[39m\u001b[39m\"\u001b[39m)\n\u001b[0;32m     <a href='vscode-notebook-cell:/c%3A/Users/jofin/Desktop/My%20Folder/Data%20Science/class/chumma.ipynb#W0sZmlsZQ%3D%3D?line=84'>85</a>\u001b[0m total \u001b[39m=\u001b[39m \u001b[39mint\u001b[39m(Quantity)\u001b[39m*\u001b[39m\u001b[39mint\u001b[39m(price)\n",
      "File \u001b[1;32m~\\AppData\\Roaming\\Python\\Python311\\site-packages\\ipykernel\\kernelbase.py:1202\u001b[0m, in \u001b[0;36mKernel.raw_input\u001b[1;34m(self, prompt)\u001b[0m\n\u001b[0;32m   1200\u001b[0m     msg \u001b[39m=\u001b[39m \u001b[39m\"\u001b[39m\u001b[39mraw_input was called, but this frontend does not support input requests.\u001b[39m\u001b[39m\"\u001b[39m\n\u001b[0;32m   1201\u001b[0m     \u001b[39mraise\u001b[39;00m StdinNotImplementedError(msg)\n\u001b[1;32m-> 1202\u001b[0m \u001b[39mreturn\u001b[39;00m \u001b[39mself\u001b[39;49m\u001b[39m.\u001b[39;49m_input_request(\n\u001b[0;32m   1203\u001b[0m     \u001b[39mstr\u001b[39;49m(prompt),\n\u001b[0;32m   1204\u001b[0m     \u001b[39mself\u001b[39;49m\u001b[39m.\u001b[39;49m_parent_ident[\u001b[39m\"\u001b[39;49m\u001b[39mshell\u001b[39;49m\u001b[39m\"\u001b[39;49m],\n\u001b[0;32m   1205\u001b[0m     \u001b[39mself\u001b[39;49m\u001b[39m.\u001b[39;49mget_parent(\u001b[39m\"\u001b[39;49m\u001b[39mshell\u001b[39;49m\u001b[39m\"\u001b[39;49m),\n\u001b[0;32m   1206\u001b[0m     password\u001b[39m=\u001b[39;49m\u001b[39mFalse\u001b[39;49;00m,\n\u001b[0;32m   1207\u001b[0m )\n",
      "File \u001b[1;32m~\\AppData\\Roaming\\Python\\Python311\\site-packages\\ipykernel\\kernelbase.py:1245\u001b[0m, in \u001b[0;36mKernel._input_request\u001b[1;34m(self, prompt, ident, parent, password)\u001b[0m\n\u001b[0;32m   1242\u001b[0m \u001b[39mexcept\u001b[39;00m \u001b[39mKeyboardInterrupt\u001b[39;00m:\n\u001b[0;32m   1243\u001b[0m     \u001b[39m# re-raise KeyboardInterrupt, to truncate traceback\u001b[39;00m\n\u001b[0;32m   1244\u001b[0m     msg \u001b[39m=\u001b[39m \u001b[39m\"\u001b[39m\u001b[39mInterrupted by user\u001b[39m\u001b[39m\"\u001b[39m\n\u001b[1;32m-> 1245\u001b[0m     \u001b[39mraise\u001b[39;00m \u001b[39mKeyboardInterrupt\u001b[39;00m(msg) \u001b[39mfrom\u001b[39;00m \u001b[39mNone\u001b[39;00m\n\u001b[0;32m   1246\u001b[0m \u001b[39mexcept\u001b[39;00m \u001b[39mException\u001b[39;00m:\n\u001b[0;32m   1247\u001b[0m     \u001b[39mself\u001b[39m\u001b[39m.\u001b[39mlog\u001b[39m.\u001b[39mwarning(\u001b[39m\"\u001b[39m\u001b[39mInvalid Message:\u001b[39m\u001b[39m\"\u001b[39m, exc_info\u001b[39m=\u001b[39m\u001b[39mTrue\u001b[39;00m)\n",
      "\u001b[1;31mKeyboardInterrupt\u001b[0m: Interrupted by user"
     ]
    }
   ],
   "source": [
    "class sportmart:\n",
    "    def __init__(self):\n",
    "        self.inventory={}\n",
    "        self.orders={}\n",
    "        self.t={}\n",
    "\n",
    "    def createInventory(self,ProductID,ProductName,Quantity,Price):\n",
    "        temp = {\n",
    "            \"productid\" : ProductID,\n",
    "            \"productname\" : ProductName,\n",
    "            \"quantity\" : Quantity,\n",
    "            \"price\" : Price\n",
    "        }\n",
    "        self.inventory[ProductID] = temp\n",
    "\n",
    "    def createOrder(self,Orderid,ProductID,Quantity,price,total):\n",
    "        temp = {\n",
    "            \"orderid\" : Orderid,\n",
    "            \"productid\" : ProductID,\n",
    "            \"quantity\" : Quantity,\n",
    "            \"price\" : price,\n",
    "            \"total\" : total\n",
    "        }\n",
    "        self.orders[Orderid] = temp\n",
    "        #print(self.orders)\n",
    "\n",
    "    def printOrders(self):\n",
    "        print(self.orders)\n",
    "\n",
    "    def printInventory(self):\n",
    "        print(self.inventory)\n",
    "\n",
    "    def addorder(self,Orderid,ProductID,Quantity,price,total):\n",
    "        self.t = {\n",
    "            \"orderid\" : Orderid,\n",
    "            \"productid\" : ProductID,\n",
    "            \"quantity\" : Quantity,\n",
    "            \"price\" : price,\n",
    "            \"total\" : total\n",
    "        }\n",
    "        self.orders[Orderid] = self.t\n",
    "        print(self.orders)\n",
    "        \n",
    "    def search(self,ump):\n",
    "        if ump in self.orders:\n",
    "            print(\"exist\")\n",
    "        else:\n",
    "            print(\"not exists\")\n",
    "    \n",
    "\n",
    "trinity = sportmart()\n",
    "orders = open(\"orders.csv\",\"r\")\n",
    "o_header = orders.readline()\n",
    "o_data = orders.readlines()\n",
    "for data in o_data:\n",
    "    tmp = data.strip().split(\",\")\n",
    "    trinity.createOrder(tmp[0],tmp[1],tmp[2],tmp[3],tmp[4])\n",
    "\n",
    "#trinity.printOrders()\n",
    "\n",
    "inventory = open(\"inventory.csv\",\"r\")\n",
    "i_header = inventory.readline()\n",
    "i_data = inventory.readlines()\n",
    "for data in i_data:\n",
    "    tmp = data.strip().split(\",\")\n",
    "    trinity.createInventory(tmp[0],tmp[1],tmp[2],tmp[3])\n",
    "\n",
    "#trinity.printInventory()\n",
    "while True:\n",
    "    print(\"\\n\")\n",
    "    print(\"1.show list\")\n",
    "    print(\"2.add orders\")\n",
    "    print(\"3.search\")\n",
    "    print(\"4.Exit\")\n",
    "\n",
    "    choice=int(input(\"Enter the choice:\"))\n",
    "    if choice==1:\n",
    "        trinity.printOrders()\n",
    "\n",
    "    elif choice==2:\n",
    "        Orderid= input(\"Enter the product id:\")\n",
    "        ProductID = input(\"Enter the product name:\")\n",
    "        Quantity = input(\"Enter the quantity:\")\n",
    "        price = input(\"Enter the price:\")\n",
    "        total = int(Quantity)*int(price)\n",
    "        \n",
    "        trinity.addorder(Orderid,ProductID,Quantity,price,total)\n",
    "        #trinity.printOrders()\n",
    "\n",
    "    elif choice==3:\n",
    "        ump = input(\"Orderid:\")\n",
    "        trinity.search(ump)\n",
    "    elif choice==4:\n",
    "        print(\"=========E X I T E D========\")\n",
    "        break\n"
   ]
  },
  {
   "cell_type": "code",
   "execution_count": 1,
   "metadata": {},
   "outputs": [
    {
     "name": "stdout",
     "output_type": "stream",
     "text": [
      "name exists\n",
      "{'jof': 'wow', 'jai': 'ui'}\n"
     ]
    }
   ],
   "source": [
    "k={\"jof\":\"yu\",\"jai\":\"ui\"}\n",
    "n=input(\"Enter:\")\n",
    "v=input(\"Enter:\")\n",
    "s=input()\n",
    "if n in k:\n",
    "        print(\"name exists\")\n",
    "        k.update({n:v})\n",
    "        print(k)\n",
    "       # print(\"shut up\")\n",
    "else:\n",
    "        k.update({n:[v,s]})\n",
    "        print(k)\n"
   ]
  }
 ],
 "metadata": {
  "kernelspec": {
   "display_name": "Python 3",
   "language": "python",
   "name": "python3"
  },
  "language_info": {
   "codemirror_mode": {
    "name": "ipython",
    "version": 3
   },
   "file_extension": ".py",
   "mimetype": "text/x-python",
   "name": "python",
   "nbconvert_exporter": "python",
   "pygments_lexer": "ipython3",
   "version": "3.11.1"
  }
 },
 "nbformat": 4,
 "nbformat_minor": 2
}
