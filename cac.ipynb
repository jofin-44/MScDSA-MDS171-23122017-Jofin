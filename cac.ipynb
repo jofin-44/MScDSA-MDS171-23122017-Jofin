{
 "cells": [
  {
   "cell_type": "markdown",
   "metadata": {},
   "source": [
    "Automobile management system\n",
    "Group members:\n",
    "Jofin(23122017)\n",
    "Yeswanth P G(23122044)\n",
    "Hiranlal(23122045)"
   ]
  },
  {
   "cell_type": "code",
   "execution_count": 4,
   "metadata": {},
   "outputs": [
    {
     "name": "stdout",
     "output_type": "stream",
     "text": [
      "Toyota Vehicles:\n",
      "Vehicle 1:\n",
      "Make: Toyota\n",
      "Model: Camry\n",
      "Year: 2020\n",
      "\n",
      "Vehicle 2:\n",
      "Make: Toyota\n",
      "Model: Corolla\n",
      "Year: 2022\n",
      "\n",
      "\n",
      "All Vehicles:\n",
      "Vehicle 1:\n",
      "Make: Toyota\n",
      "Model: Camry\n",
      "Year: 2020\n",
      "\n",
      "Vehicle 2:\n",
      "Make: Toyota\n",
      "Model: Corolla\n",
      "Year: 2022\n",
      "\n",
      "Vehicle 3:\n",
      "Make: Honda\n",
      "Model: Civic\n",
      "Year: 2021\n",
      "\n"
     ]
    }
   ],
   "source": [
    "class Vehicle:\n",
    "    def __init__(self, make, model, year):\n",
    "        self.make = make\n",
    "        self.model = model\n",
    "        self.year = year\n",
    "\n",
    "class AutomobileManagementSystem:\n",
    "    def __init__(self):\n",
    "        self.vehicles = []\n",
    "\n",
    "    def add_vehicle(self, vehicle):\n",
    "        self.vehicles.append(vehicle)\n",
    "\n",
    "    def find_vehicle_by_make(self, make):\n",
    "        matching_vehicles = [vehicle for vehicle in self.vehicles if vehicle.make.lower() == make.lower()]\n",
    "        return matching_vehicles\n",
    "\n",
    "    def show_all_vehicles(self):\n",
    "        for i, vehicle in enumerate(self.vehicles, start=1):\n",
    "            print(f\"Vehicle {i}:\")\n",
    "            print(f\"Make: {vehicle.make}\")\n",
    "            print(f\"Model: {vehicle.model}\")\n",
    "            print(f\"Year: {vehicle.year}\")\n",
    "            print()\n",
    "\n",
    "def main():\n",
    "    auto_system = AutomobileManagementSystem()\n",
    "\n",
    "    # Add some vehicles to the system\n",
    "    vehicle1 = Vehicle(\"Toyota\", \"Camry\", 2020)\n",
    "    vehicle2 = Vehicle(\"Toyota\", \"Corolla\", 2022)\n",
    "    vehicle3 = Vehicle(\"Honda\", \"Civic\", 2021)\n",
    "\n",
    "    auto_system.add_vehicle(vehicle1)\n",
    "    auto_system.add_vehicle(vehicle2)\n",
    "    auto_system.add_vehicle(vehicle3)\n",
    "\n",
    "    # Show all Toyota vehicles\n",
    "    print(\"Toyota Vehicles:\")\n",
    "    toyota_vehicles = auto_system.find_vehicle_by_make(\"Toyota\")\n",
    "    if toyota_vehicles:\n",
    "        for i, vehicle in enumerate(toyota_vehicles, start=1):\n",
    "            print(f\"Vehicle {i}:\")\n",
    "            print(f\"Make: {vehicle.make}\")\n",
    "            print(f\"Model: {vehicle.model}\")\n",
    "            print(f\"Year: {vehicle.year}\")\n",
    "            print()\n",
    "    else:\n",
    "        print(\"No Toyota vehicles found.\")\n",
    "\n",
    "    # Show all vehicles\n",
    "    print(\"\\nAll Vehicles:\")\n",
    "    auto_system.show_all_vehicles()\n",
    "\n",
    "if __name__ == \"__main__\":\n",
    "    main()"
   ]
  },
  {
   "cell_type": "markdown",
   "metadata": {},
   "source": [
    "Data collection"
   ]
  },
  {
   "cell_type": "code",
   "execution_count": 5,
   "metadata": {},
   "outputs": [],
   "source": [
    "import sqlite3\n",
    "\n",
    "# Connect to the database\n",
    "conn = sqlite3.connect(\"automobiles.db\")\n",
    "cursor = conn.cursor()\n",
    "\n",
    "# Create a table to store vehicle information\n",
    "cursor.execute('''CREATE TABLE IF NOT EXISTS vehicles (\n",
    "                    id INTEGER PRIMARY KEY,\n",
    "                    make TEXT,\n",
    "                    model TEXT,\n",
    "                    year INTEGER,\n",
    "                    mileage REAL\n",
    "                )''')\n",
    "conn.commit()"
   ]
  },
  {
   "cell_type": "markdown",
   "metadata": {},
   "source": [
    "Data analysis"
   ]
  },
  {
   "cell_type": "code",
   "execution_count": 6,
   "metadata": {},
   "outputs": [
    {
     "name": "stdout",
     "output_type": "stream",
     "text": [
      "Average mileage for Toyota vehicles: 0.0 miles\n"
     ]
    }
   ],
   "source": [
    "def calculate_average_mileage(make):\n",
    "    cursor.execute(\"SELECT AVG(mileage) FROM vehicles WHERE make=?\", (make,))\n",
    "    result = cursor.fetchone()\n",
    "    return result[0] if result[0] else 0.0\n",
    "\n",
    "average_mileage = calculate_average_mileage(\"Toyota\")\n",
    "print(f\"Average mileage for Toyota vehicles: {average_mileage} miles\")"
   ]
  },
  {
   "cell_type": "markdown",
   "metadata": {},
   "source": [
    "Data interpretation"
   ]
  },
  {
   "cell_type": "code",
   "execution_count": 10,
   "metadata": {},
   "outputs": [
    {
     "name": "stdout",
     "output_type": "stream",
     "text": [
      "1. Add Vehicle\n",
      "2. Show All Vehicles\n",
      "3. Calculate Average Mileage for Toyota\n",
      "4. Quit\n",
      "1. Add Vehicle\n",
      "2. Show All Vehicles\n",
      "3. Calculate Average Mileage for Toyota\n",
      "4. Quit\n",
      "1. Add Vehicle\n",
      "2. Show All Vehicles\n",
      "3. Calculate Average Mileage for Toyota\n",
      "4. Quit\n",
      "Average mileage for Toyota vehicles: 0.0 miles\n",
      "1. Add Vehicle\n",
      "2. Show All Vehicles\n",
      "3. Calculate Average Mileage for Toyota\n",
      "4. Quit\n",
      "ID: 1\n",
      "Make: hyundai\n",
      "Model: i20\n",
      "Year: 2019\n",
      "Mileage: 18.0 miles\n",
      "\n",
      "ID: 2\n",
      "Make: toyota\n",
      "Model: innova\n",
      "Year: 2021\n",
      "Mileage: 15.0 miles\n",
      "\n",
      "ID: 3\n",
      "Make: toyota\n",
      "Model: supra\n",
      "Year: 2004\n",
      "Mileage: 12.0 miles\n",
      "\n",
      "ID: 4\n",
      "Make: toyota\n",
      "Model: supra\n",
      "Year: 2004\n",
      "Mileage: 12.0 miles\n",
      "\n",
      "ID: 5\n",
      "Make: hyundai\n",
      "Model: i20\n",
      "Year: 2019\n",
      "Mileage: 18.0 miles\n",
      "\n",
      "1. Add Vehicle\n",
      "2. Show All Vehicles\n",
      "3. Calculate Average Mileage for Toyota\n",
      "4. Quit\n",
      "Average mileage for Toyota vehicles: 0.0 miles\n",
      "1. Add Vehicle\n",
      "2. Show All Vehicles\n",
      "3. Calculate Average Mileage for Toyota\n",
      "4. Quit\n"
     ]
    }
   ],
   "source": [
    "def show_all_vehicles():\n",
    "    cursor.execute(\"SELECT * FROM vehicles\")\n",
    "    vehicles = cursor.fetchall()\n",
    "    for vehicle in vehicles:\n",
    "        print(f\"ID: {vehicle[0]}\")\n",
    "        print(f\"Make: {vehicle[1]}\")\n",
    "        print(f\"Model: {vehicle[2]}\")\n",
    "        print(f\"Year: {vehicle[3]}\")\n",
    "        print(f\"Mileage: {vehicle[4]} miles\")\n",
    "        print()\n",
    "\n",
    "def main():\n",
    "    while True:\n",
    "        print(\"1. Add Vehicle\")\n",
    "        print(\"2. Show All Vehicles\")\n",
    "        print(\"3. Calculate Average Mileage for Toyota\")\n",
    "        print(\"4. Quit\")\n",
    "\n",
    "        choice = input(\"Enter your choice: \")\n",
    "\n",
    "        if choice == \"1\":\n",
    "            make = input(\"Enter the make: \")\n",
    "            model = input(\"Enter the model: \")\n",
    "            year = int(input(\"Enter the year: \"))\n",
    "            mileage = float(input(\"Enter the mileage: \"))\n",
    "            cursor.execute(\"INSERT INTO vehicles (make, model, year, mileage) VALUES (?, ?, ?, ?)\",\n",
    "                           (make, model, year, mileage))\n",
    "            conn.commit()\n",
    "\n",
    "        elif choice == \"2\":\n",
    "            show_all_vehicles()\n",
    "\n",
    "        elif choice == \"3\":\n",
    "            average_mileage = calculate_average_mileage(\"Toyota\")\n",
    "            print(f\"Average mileage for Toyota vehicles: {average_mileage} miles\")\n",
    "\n",
    "        elif choice == \"4\":\n",
    "            break\n",
    "\n",
    "if __name__ == \"__main__\":\n",
    "    main()"
   ]
  }
 ],
 "metadata": {
  "kernelspec": {
   "display_name": "Python 3",
   "language": "python",
   "name": "python3"
  },
  "language_info": {
   "codemirror_mode": {
    "name": "ipython",
    "version": 3
   },
   "file_extension": ".py",
   "mimetype": "text/x-python",
   "name": "python",
   "nbconvert_exporter": "python",
   "pygments_lexer": "ipython3",
   "version": "3.11.1"
  },
  "orig_nbformat": 4
 },
 "nbformat": 4,
 "nbformat_minor": 2
}
