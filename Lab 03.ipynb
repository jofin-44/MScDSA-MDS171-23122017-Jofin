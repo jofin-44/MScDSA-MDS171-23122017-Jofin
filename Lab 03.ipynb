{
 "cells": [
  {
   "cell_type": "code",
   "execution_count": 4,
   "metadata": {},
   "outputs": [
    {
     "name": "stdout",
     "output_type": "stream",
     "text": [
      "Mean is :  542.94\n"
     ]
    }
   ],
   "source": [
    "#tale of number harmony lab-03\n",
    "vlist=[761, 123, 585, 275, 194, 840, 999, 622, 763, 40, 825, 687, 402, 338, 611, 987, 739, 95, 819, 568, 320, 126, 688, 948, 514, 223, 751, 379, 857, 767, 492, 162, 437, 934, 430, 343, 725, 511, 580, 678, 708, 823, 346, 179, 786, 663, 195, 890, 267, 502, 214, 300, 786, 961, 235, 559, 992, 919, 948, 318, 57, 787, 653, 317, 305, 172, 966, 182, 970, 17, 89, 624, 629, 595, 485, 752, 984, 978, 460, 124, 321, 256, 614, 852, 811, 561, 127, 207, 406, 615, 888, 391, 691, 470, 911, 401, 137, 600, 478, 682]\n",
    "#Finding mean\n",
    "a=0\n",
    "b=0\n",
    "for i in vlist:\n",
    "    a=a+i\n",
    "    b=b+1\n",
    "mean=a/b\n",
    "print(\"Mean is : \",mean)"
   ]
  },
  {
   "cell_type": "code",
   "execution_count": 5,
   "metadata": {},
   "outputs": [
    {
     "name": "stdout",
     "output_type": "stream",
     "text": [
      "Minimum value is : 17\n",
      "Maximum value is : 999\n"
     ]
    }
   ],
   "source": [
    "#Finding minimum\n",
    "minimum=vlist[0]\n",
    "for i in vlist:\n",
    "    if i<minimum:\n",
    "        minimum=i\n",
    "print(\"Minimum value is :\",minimum)\n",
    "\n",
    "#Finding maximum\n",
    "maximum=vlist[0]\n",
    "for i in vlist:\n",
    "    if i>maximum:\n",
    "        maximum=i\n",
    "print(\"Maximum value is :\",maximum)"
   ]
  },
  {
   "cell_type": "code",
   "execution_count": 6,
   "metadata": {},
   "outputs": [
    {
     "name": "stdout",
     "output_type": "stream",
     "text": [
      "Range is : 982\n"
     ]
    }
   ],
   "source": [
    "#Finding the range\n",
    "Range=maximum-minimum\n",
    "print(\"Range is :\",Range)"
   ]
  },
  {
   "cell_type": "code",
   "execution_count": 7,
   "metadata": {},
   "outputs": [
    {
     "name": "stdout",
     "output_type": "stream",
     "text": [
      "Using Builtin functions\n",
      "Mean = 542.94\n",
      "Maximum value is 999 and minimum value is 17\n",
      "The range is 982\n"
     ]
    }
   ],
   "source": [
    "#Using Builtin functions\n",
    "print(\"Using Builtin functions\")\n",
    "#Mean\n",
    "total_numbers=len(vlist)\n",
    "total_sum=sum(vlist)\n",
    "print(\"Mean =\",total_sum/total_numbers)\n",
    "\n",
    "#Minimum and maximum value\n",
    "minimum_value=min(vlist)\n",
    "maximum_value=max(vlist)\n",
    "print(\"Maximum value is\" ,maximum_value, \"and minimum value is\" ,minimum_value)\n",
    "\n",
    "#Finding range\n",
    "Range=maximum_value-minimum_value\n",
    "print(\"The range is\" ,Range)"
   ]
  }
 ],
 "metadata": {
  "kernelspec": {
   "display_name": "Python 3",
   "language": "python",
   "name": "python3"
  },
  "language_info": {
   "codemirror_mode": {
    "name": "ipython",
    "version": 3
   },
   "file_extension": ".py",
   "mimetype": "text/x-python",
   "name": "python",
   "nbconvert_exporter": "python",
   "pygments_lexer": "ipython3",
   "version": "3.11.1"
  },
  "orig_nbformat": 4
 },
 "nbformat": 4,
 "nbformat_minor": 2
}
