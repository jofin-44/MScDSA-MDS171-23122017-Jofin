{
 "cells": [
  {
   "cell_type": "code",
   "execution_count": 22,
   "metadata": {},
   "outputs": [],
   "source": [
    "def collectMatrix(row, col):\n",
    "    matrix = []\n",
    "    for i in range(0, row, 1):\n",
    "        row = []\n",
    "        for j in range(0, col, 1):\n",
    "            element = int(input(\"Enter the number [{},{}] :\".format(i, j)))\n",
    "            row.append(element)\n",
    "        matrix.append(row)\n",
    "\n",
    "    return matrix"
   ]
  },
  {
   "cell_type": "code",
   "execution_count": 23,
   "metadata": {},
   "outputs": [],
   "source": [
    "def printMatrix(matrix):\n",
    "    for row in matrix:\n",
    "        for element in row:\n",
    "            print(element, end=\"\\t\")\n",
    "        print()"
   ]
  },
  {
   "cell_type": "code",
   "execution_count": 24,
   "metadata": {},
   "outputs": [
    {
     "name": "stdout",
     "output_type": "stream",
     "text": [
      "1\t2\t\n",
      "3\t4\t\n"
     ]
    }
   ],
   "source": [
    "M1 = collectMatrix(2, 2)\n",
    "printMatrix(M1)"
   ]
  },
  {
   "cell_type": "code",
   "execution_count": 28,
   "metadata": {},
   "outputs": [],
   "source": [
    "def result_Matrix(M1,M2,row_1, col_1, row_2,col_2):\n",
    "\n",
    "    ResM = []\n",
    "    for i in range(0,row_1,1):\n",
    "        col = []\n",
    "        for j in range(0,col_1,1):\n",
    "            res = 0\n",
    "            for k in range(0,row_2,1):\n",
    "                res += M1[i][k] * M2[k][j]\n",
    "            col.append(res)\n",
    "        ResM.append(col)\n",
    "    \n",
    "    return ResM"
   ]
  },
  {
   "cell_type": "code",
   "execution_count": 29,
   "metadata": {},
   "outputs": [
    {
     "data": {
      "text/plain": [
       "[[30, 36, 42], [66, 81, 96], [102, 126, 150]]"
      ]
     },
     "execution_count": 29,
     "metadata": {},
     "output_type": "execute_result"
    }
   ],
   "source": [
    "result_Matrix([[1, 2, 3], [4, 5, 6], [7, 8, 9]], [\n",
    "              [1, 2, 3], [4, 5, 6], [7, 8, 9]], 3, 3, 3, 3)"
   ]
  },
  {
   "cell_type": "code",
   "execution_count": 31,
   "metadata": {},
   "outputs": [
    {
     "name": "stdout",
     "output_type": "stream",
     "text": [
      "=====matrix_a=====\n",
      "=====matrix_a=====\n",
      "1\t2\t3\t\n",
      "4\t5\t6\t\n",
      "1\t2\t3\t\n",
      "=====matrix_b=====\n",
      "4\t5\t6\t\n",
      "1\t2\t3\t\n",
      "4\t5\t6\t\n",
      "=====Result=====\n",
      "18\t24\t30\t\n",
      "45\t60\t75\t\n",
      "18\t24\t30\t\n"
     ]
    }
   ],
   "source": [
    "print(\"=====matrix_a=====\")\n",
    "row_1 = int(input(\"Enter the row limit of first matrix:\"))\n",
    "col_1 = int(input(\"Enter the column limit of first matrix:\"))\n",
    "row_2 = int(input(\"Enter the row limit of second matrix:\"))\n",
    "col_2 = int(input(\"Enter the column limit of second matrix:\"))\n",
    "\n",
    "if row_1 == col_2:\n",
    "    print(\"=====matrix_a=====\")\n",
    "    M1 = collectMatrix(row_1, col_1)\n",
    "    printMatrix(M1)\n",
    "\n",
    "    print(\"=====matrix_b=====\")\n",
    "    M2 = collectMatrix(row_2, col_2)\n",
    "    printMatrix(M2)\n",
    "\n",
    "    print(\"=====Result=====\")\n",
    "    M_Res = result_Matrix(M1, M2, row_1, col_1, row_2, col_2)\n",
    "    printMatrix(M_Res)"
   ]
  },
  {
   "cell_type": "code",
   "execution_count": null,
   "metadata": {},
   "outputs": [],
   "source": []
  }
 ],
 "metadata": {
  "kernelspec": {
   "display_name": "Python 3",
   "language": "python",
   "name": "python3"
  },
  "language_info": {
   "codemirror_mode": {
    "name": "ipython",
    "version": 3
   },
   "file_extension": ".py",
   "mimetype": "text/x-python",
   "name": "python",
   "nbconvert_exporter": "python",
   "pygments_lexer": "ipython3",
   "version": "3.11.1"
  },
  "orig_nbformat": 4
 },
 "nbformat": 4,
 "nbformat_minor": 2
}
