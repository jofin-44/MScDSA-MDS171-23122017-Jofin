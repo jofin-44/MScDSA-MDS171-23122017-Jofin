{
 "cells": [
  {
   "cell_type": "code",
   "execution_count": 27,
   "metadata": {},
   "outputs": [
    {
     "name": "stdout",
     "output_type": "stream",
     "text": [
      "=====matrix_a=====\n",
      "1\t2\t\n",
      "\n",
      "3\t4\t\n",
      "\n",
      "5\t6\t\n",
      "\n",
      "=====matrix_b=====\n",
      "6\t5\t4\t\n",
      "\n",
      "3\t2\t1\t\n",
      "\n",
      "========Resultant Matrix=======\n"
     ]
    },
    {
     "ename": "IndexError",
     "evalue": "list index out of range",
     "output_type": "error",
     "traceback": [
      "\u001b[1;31m---------------------------------------------------------------------------\u001b[0m",
      "\u001b[1;31mIndexError\u001b[0m                                Traceback (most recent call last)",
      "\u001b[1;32mc:\\Users\\jofin\\Desktop\\My Folder\\MSc DS A\\MScDSA-MDS171-23122017-Jofin\\lab08.ipynb Cell 1\u001b[0m line \u001b[0;36m3\n\u001b[0;32m     <a href='vscode-notebook-cell:/c%3A/Users/jofin/Desktop/My%20Folder/MSc%20DS%20A/MScDSA-MDS171-23122017-Jofin/lab08.ipynb#W0sZmlsZQ%3D%3D?line=36'>37</a>\u001b[0m \u001b[39mfor\u001b[39;00m j \u001b[39min\u001b[39;00m \u001b[39mrange\u001b[39m(\u001b[39m0\u001b[39m,col,\u001b[39m1\u001b[39m):\n\u001b[0;32m     <a href='vscode-notebook-cell:/c%3A/Users/jofin/Desktop/My%20Folder/MSc%20DS%20A/MScDSA-MDS171-23122017-Jofin/lab08.ipynb#W0sZmlsZQ%3D%3D?line=37'>38</a>\u001b[0m     \u001b[39mfor\u001b[39;00m k \u001b[39min\u001b[39;00m \u001b[39mrange\u001b[39m(\u001b[39m0\u001b[39m,col,\u001b[39m1\u001b[39m):\n\u001b[1;32m---> <a href='vscode-notebook-cell:/c%3A/Users/jofin/Desktop/My%20Folder/MSc%20DS%20A/MScDSA-MDS171-23122017-Jofin/lab08.ipynb#W0sZmlsZQ%3D%3D?line=38'>39</a>\u001b[0m         s\u001b[39m=\u001b[39ms\u001b[39m+\u001b[39mmatrix_a[i][j]\u001b[39m*\u001b[39mmatrix_b[j][k]\n\u001b[0;32m     <a href='vscode-notebook-cell:/c%3A/Users/jofin/Desktop/My%20Folder/MSc%20DS%20A/MScDSA-MDS171-23122017-Jofin/lab08.ipynb#W0sZmlsZQ%3D%3D?line=39'>40</a>\u001b[0m e\u001b[39m.\u001b[39mappend(s)\n\u001b[0;32m     <a href='vscode-notebook-cell:/c%3A/Users/jofin/Desktop/My%20Folder/MSc%20DS%20A/MScDSA-MDS171-23122017-Jofin/lab08.ipynb#W0sZmlsZQ%3D%3D?line=40'>41</a>\u001b[0m MM\u001b[39m.\u001b[39mappend(e)\n",
      "\u001b[1;31mIndexError\u001b[0m: list index out of range"
     ]
    }
   ],
   "source": [
    "print(\"=====matrix_a=====\")\n",
    "r=int(input(\"Enter the row limit of first matrix:\"))\n",
    "c=int(input(\"Enter the column limit of first matrix:\"))\n",
    "row=int(input(\"Enter the row limit of second matrix:\"))\n",
    "col=int(input(\"Enter the column limit of second matrix:\"))\n",
    "if r==col:\n",
    "    matrix_a=[]\n",
    "    for i in range(0,r,1):\n",
    "        ele=[]\n",
    "        for j in range(0,c,1):\n",
    "            n=int(input(\"Enter the number:\"))\n",
    "            ele.append(n)\n",
    "        matrix_a.append(ele)\n",
    "    for i in range(0,r,1):\n",
    "        for j in range(0,c,1):\n",
    "            print(matrix_a[i][j],end=\"\\t\")\n",
    "        print(\"\\n\")\n",
    "\n",
    "    print(\"=====matrix_b=====\")   \n",
    "    matrix_b=[]\n",
    "    for i in range(0,row,1):\n",
    "        el=[]\n",
    "        for j in range(0,col,1):\n",
    "            n=int(input(\"Enter the number:\"))\n",
    "            el.append(n)\n",
    "        matrix_b.append(el)\n",
    "    for i in range(0,row,1):\n",
    "        for j in range(0,col,1):\n",
    "            print(matrix_b[i][j],end=\"\\t\")\n",
    "        print(\"\\n\")\n",
    "\n",
    "print(\"========Resultant Matrix=======\")\n",
    "MM=[]\n",
    "s=0\n",
    "for i in range(0,r,1):\n",
    "    e=[]\n",
    "    for j in range(0,col,1):\n",
    "        for k in range(0,col,1):\n",
    "            s=s+matrix_a[i][j]*matrix_b[j][k]\n",
    "    e.append(s)\n",
    "    MM.append(e)\n",
    "print(MM)\n",
    "'''    for i in range(0,r,1):\n",
    "        for j in range(0,col,1):\n",
    "            print(MM[i][j],end=\" \")\n",
    "        print(\"\\n\")'''\n",
    "\n"
   ]
  },
  {
   "cell_type": "code",
   "execution_count": null,
   "metadata": {},
   "outputs": [],
   "source": []
  }
 ],
 "metadata": {
  "kernelspec": {
   "display_name": "Python 3",
   "language": "python",
   "name": "python3"
  },
  "language_info": {
   "codemirror_mode": {
    "name": "ipython",
    "version": 3
   },
   "file_extension": ".py",
   "mimetype": "text/x-python",
   "name": "python",
   "nbconvert_exporter": "python",
   "pygments_lexer": "ipython3",
   "version": "3.11.1"
  },
  "orig_nbformat": 4
 },
 "nbformat": 4,
 "nbformat_minor": 2
}
