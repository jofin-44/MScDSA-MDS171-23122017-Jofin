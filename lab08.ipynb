{
 "cells": [
  {
   "cell_type": "code",
   "execution_count": 4,
   "metadata": {},
   "outputs": [
    {
     "name": "stdout",
     "output_type": "stream",
     "text": [
      "=====matrix_a=====\n",
      "1\t2\t3\t\n",
      "\n",
      "4\t5\t6\t\n",
      "\n",
      "7\t8\t9\t\n",
      "\n",
      "=====matrix_b=====\n",
      "0\t1\t2\t\n",
      "\n",
      "3\t4\t5\t\n",
      "\n",
      "6\t7\t8\t\n",
      "\n"
     ]
    }
   ],
   "source": [
    "print(\"=====matrix_a=====\")\n",
    "r=int(input(\"Enter the row limit of first matrix:\"))\n",
    "c=int(input(\"Enter the column limit of first matrix:\"))\n",
    "row=int(input(\"Enter the row limit of second matrix:\"))\n",
    "col=int(input(\"Enter the column limit of second matrix:\"))\n",
    "if r==col:\n",
    "    matrix_a=[]\n",
    "    for i in range(0,r,1):\n",
    "        ele=[]\n",
    "        for j in range(0,c,1):\n",
    "            n=int(input(\"Enter the number:\"))\n",
    "            ele.append(n)\n",
    "        matrix_a.append(ele)\n",
    "    for i in range(0,r,1):\n",
    "        for j in range(0,c,1):\n",
    "            print(matrix_a[i][j],end=\"\\t\")\n",
    "        print(\"\\n\")\n",
    "\n",
    "    print(\"=====matrix_b=====\")   \n",
    "    matrix_b=[]\n",
    "    for i in range(0,row,1):\n",
    "        el=[]\n",
    "        for j in range(0,col,1):\n",
    "            n=int(input(\"Enter the number:\"))\n",
    "            el.append(n)\n",
    "        matrix_b.append(el)\n",
    "    for i in range(0,row,1):\n",
    "        for j in range(0,col,1):\n",
    "            print(matrix_b[i][j],end=\"\\t\")\n",
    "        print(\"\\n\")"
   ]
  },
  {
   "cell_type": "code",
   "execution_count": null,
   "metadata": {},
   "outputs": [],
   "source": []
  }
 ],
 "metadata": {
  "kernelspec": {
   "display_name": "Python 3",
   "language": "python",
   "name": "python3"
  },
  "language_info": {
   "codemirror_mode": {
    "name": "ipython",
    "version": 3
   },
   "file_extension": ".py",
   "mimetype": "text/x-python",
   "name": "python",
   "nbconvert_exporter": "python",
   "pygments_lexer": "ipython3",
   "version": "3.11.1"
  },
  "orig_nbformat": 4
 },
 "nbformat": 4,
 "nbformat_minor": 2
}
