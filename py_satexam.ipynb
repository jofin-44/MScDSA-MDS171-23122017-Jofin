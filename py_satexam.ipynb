{
 "cells": [
  {
   "cell_type": "code",
   "execution_count": 6,
   "metadata": {},
   "outputs": [
    {
     "name": "stdout",
     "output_type": "stream",
     "text": [
      "===========1 to 10 numbers using while loop============\n",
      "1\n",
      "2\n",
      "3\n",
      "4\n",
      "5\n",
      "6\n",
      "7\n",
      "8\n",
      "9\n",
      "10\n"
     ]
    }
   ],
   "source": [
    "print(\"===========1 to 10 numbers using while loop============\")\n",
    "i=1\n",
    "while i<=10:\n",
    "    print(i)\n",
    "    i=i+1"
   ]
  },
  {
   "cell_type": "code",
   "execution_count": 2,
   "metadata": {},
   "outputs": [
    {
     "name": "stdout",
     "output_type": "stream",
     "text": [
      "=======sum of 1-100 numbers=========\n",
      "sum of 1-100 numbers is:  5050\n"
     ]
    }
   ],
   "source": [
    "print(\"=======sum of 1-100 numbers=========\")\n",
    "s=0\n",
    "for i in range(1,101,1):\n",
    "    s=s+i\n",
    "-----------------------------------------print(\"sum of 1-100 numbers is: \" ,s)"
   ]
  },
  {
   "cell_type": "code",
   "execution_count": 3,
   "metadata": {},
   "outputs": [
    {
     "name": "stdout",
     "output_type": "stream",
     "text": [
      "====Write a Python program that takes a list of numbers as input and returns a new list containing only the even numbers from the original list.=====\n",
      "list of numbers entered: [5, 8, 6, 9, 7, 87, 65, 45, 65, 34]\n",
      "even list: [8, 6, 34]\n"
     ]
    }
   ],
   "source": [
    "print('====Write a Python program that takes a list of numbers as input and returns a new list containing only the even numbers from the original list.=====')\n",
    "my_list=[]\n",
    "even_list=[]\n",
    "for i in range(0,10,1):\n",
    "    user_input=int(input(\"Enter the number\"))\n",
    "    my_list.append(user_input)\n",
    "    if user_input%2==0:\n",
    "        even_list.append(user_input)\n",
    "print(\"list of numbers entered:\" ,my_list)\n",
    "print(\"even list:\" ,even_list)"
   ]
  },
  {
   "cell_type": "code",
   "execution_count": 14,
   "metadata": {},
   "outputs": [
    {
     "name": "stdout",
     "output_type": "stream",
     "text": [
      "dictionary\n"
     ]
    }
   ],
   "source": [
    "print(\"dictionary\")"
   ]
  }
 ],
 "metadata": {
  "kernelspec": {
   "display_name": "Python 3",
   "language": "python",
   "name": "python3"
  },
  "language_info": {
   "codemirror_mode": {
    "name": "ipython",
    "version": 3
   },
   "file_extension": ".py",
   "mimetype": "text/x-python",
   "name": "python",
   "nbconvert_exporter": "python",
   "pygments_lexer": "ipython3",
   "version": "3.11.1"
  },
  "orig_nbformat": 4
 },
 "nbformat": 4,
 "nbformat_minor": 2
}
