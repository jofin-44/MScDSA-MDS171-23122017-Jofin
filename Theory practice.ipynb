{
 "cells": [
  {
   "cell_type": "code",
   "execution_count": 4,
   "metadata": {},
   "outputs": [
    {
     "name": "stdout",
     "output_type": "stream",
     "text": [
      "Start a program\n",
      "else part test\n",
      "program ended\n"
     ]
    }
   ],
   "source": [
    "print(\"Start a program\")\n",
    "a=int(input(\"Enter the no.:\"))\n",
    "if a==5:\n",
    "    print(\"The value is 5\")\n",
    "else:\n",
    "    print(\"else part test\")\n",
    "print(\"program ended\")"
   ]
  },
  {
   "cell_type": "code",
   "execution_count": 7,
   "metadata": {},
   "outputs": [
    {
     "name": "stdout",
     "output_type": "stream",
     "text": [
      "program to check even or odd no.\n",
      "-2 is an even no.\n"
     ]
    }
   ],
   "source": [
    "print(\"program to check even or odd no.\")\n",
    "n=int(input(\"Enter the number:\"))\n",
    "if n%2==0:\n",
    "    print(n,\"is an even no.\")\n",
    "else:\n",
    "    print(n,\"is an odd no.\")"
   ]
  },
  {
   "cell_type": "code",
   "execution_count": 1,
   "metadata": {},
   "outputs": [
    {
     "name": "stdout",
     "output_type": "stream",
     "text": [
      "Read 3 numbers from user and print the largest number\n",
      "7\n"
     ]
    }
   ],
   "source": [
    "print(\"Read 3 numbers from user and print the largest number\")\n",
    "a=int(input(\"Enter the number\"))\n",
    "b=int(input(\"Enter the number\"))\n",
    "c=int(input(\"Enter the number\"))\n",
    "if a>b and a>c:\n",
    "    print(\"A \")\n"
   ]
  }
 ],
 "metadata": {
  "kernelspec": {
   "display_name": "Python 3",
   "language": "python",
   "name": "python3"
  },
  "language_info": {
   "codemirror_mode": {
    "name": "ipython",
    "version": 3
   },
   "file_extension": ".py",
   "mimetype": "text/x-python",
   "name": "python",
   "nbconvert_exporter": "python",
   "pygments_lexer": "ipython3",
   "version": "3.11.1"
  },
  "orig_nbformat": 4
 },
 "nbformat": 4,
 "nbformat_minor": 2
}
