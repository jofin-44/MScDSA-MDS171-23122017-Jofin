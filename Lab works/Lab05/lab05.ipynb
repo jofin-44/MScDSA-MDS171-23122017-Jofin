{
 "cells": [
  {
   "cell_type": "code",
   "execution_count": 47,
   "metadata": {},
   "outputs": [
    {
     "name": "stdout",
     "output_type": "stream",
     "text": [
      "<_io.TextIOWrapper name='23122017.csv' mode='w+' encoding='cp1252'>\n"
     ]
    }
   ],
   "source": [
    "import random\n",
    "item=[\"tomato\",\"potato\",\"carrot\",\"cabbage\",\"cauliflower\",\"beans\",\"onion\",\"beetroot\",\"raddish\",\"brinjal\"]\n",
    "quantity =[\"10\",\"12\",\"30\",\"32\",\"22\",\"13\",\"20\",\"16\",\"18\",\"25\"]\n",
    "price =[\"100\",\"300\",\"243\",\"250\",\"211\",\"347\",\"430\",\"578\",\"315\",\"123\"]\n",
    "file= open(\"23122017.csv\",\"w+\")\n",
    "def cat():\n",
    "    for i in range(100):\n",
    "        \n",
    "        r1=random.randint(0,9)\n",
    "        r2=random.randint(0,9)\n",
    "        r3=random.randint(0,9)\n",
    "        intquantity= int(quantity[r2])\n",
    "        intprice = int(price[r3])\n",
    "        total = intquantity*intprice\n",
    "        grand_total = str(total)\n",
    "        file.write(item[r1]+\",\"+quantity[r2]+\",\"+price[r3]+\"\\t Total = \"+grand_total+\"\\n\")\n",
    "    file.close()\n",
    "cat()\n",
    "with open(\"23122017.csv\",\"r+\") as file:\n",
    "    for line in file:\n",
    "        if \"potato\" in line:\n",
    "\n",
    "            lines=line.split()\n",
    "            print(lines)     \n",
    "            \n",
    "   \n"
   ]
  },
  {
   "cell_type": "code",
   "execution_count": 46,
   "metadata": {},
   "outputs": [
    {
     "name": "stdout",
     "output_type": "stream",
     "text": [
      "['potato,22,578', 'Total', '=', '12716']\n",
      "['potato,10,578', 'Total', '=', '5780']\n",
      "['potato,16,243', 'Total', '=', '3888']\n",
      "['potato,18,347', 'Total', '=', '6246']\n",
      "['potato,20,430', 'Total', '=', '8600']\n",
      "['potato,22,100', 'Total', '=', '2200']\n",
      "['potato,18,123', 'Total', '=', '2214']\n",
      "Maximum Price of Potato =  12716\n",
      "Minimum Price of Potato= 2200\n"
     ]
    }
   ],
   "source": [
    "potato=[]\n",
    "with open(\"23122017.csv\",\"r+\") as file:\n",
    "    for line in file:\n",
    "        if \"potato\" in line:\n",
    "\n",
    "            lines=line.split()\n",
    "            print(lines)\n",
    "            potato.append(int(lines[3]))   \n",
    "    print(\"Maximum Price of Potato = \",max(potato))\n",
    "    print(\"Minimum Price of Potato=\",min(potato))\n",
    "    \n",
    "    "
   ]
  },
  {
   "cell_type": "code",
   "execution_count": 59,
   "metadata": {},
   "outputs": [
    {
     "name": "stdout",
     "output_type": "stream",
     "text": [
      "['tomato,30,578', 'Total', '=', '17340']\n",
      "['tomato,12,123', 'Total', '=', '1476']\n",
      "['tomato,32,300', 'Total', '=', '9600']\n",
      "['tomato,25,211', 'Total', '=', '5275']\n",
      "['tomato,32,430', 'Total', '=', '13760']\n",
      "['tomato,16,100', 'Total', '=', '1600']\n",
      "['tomato,10,211', 'Total', '=', '2110']\n",
      "['tomato,13,430', 'Total', '=', '5590']\n",
      "['tomato,32,100', 'Total', '=', '3200']\n",
      "['tomato,10,243', 'Total', '=', '2430']\n",
      "['tomato,18,578', 'Total', '=', '10404']\n",
      "['tomato,10,243', 'Total', '=', '2430']\n",
      "Maximum Price of tomato =  17340\n",
      "Minimum Price of tomato= 1476\n"
     ]
    }
   ],
   "source": [
    "tomato=[]\n",
    "with open(\"23122017.csv\",\"r+\") as file:\n",
    "    for line in file:\n",
    "        if \"tomato\" in line:\n",
    "\n",
    "            lines=line.split()\n",
    "            print(lines)\n",
    "            tomato.append(int(lines[3]))   \n",
    "    print(\"Maximum Price of tomato = \",max(tomato))\n",
    "    print(\"Minimum Price of tomato=\",min(tomato))\n",
    "            \n",
    "            "
   ]
  },
  {
   "cell_type": "code",
   "execution_count": 50,
   "metadata": {},
   "outputs": [
    {
     "name": "stdout",
     "output_type": "stream",
     "text": [
      "['carrot,32,243', 'Total', '=', '7776']\n",
      "['carrot,32,100', 'Total', '=', '3200']\n",
      "['carrot,10,578', 'Total', '=', '5780']\n",
      "['carrot,32,243', 'Total', '=', '7776']\n",
      "['carrot,13,430', 'Total', '=', '5590']\n",
      "['carrot,10,430', 'Total', '=', '4300']\n",
      "['carrot,20,123', 'Total', '=', '2460']\n",
      "['carrot,10,347', 'Total', '=', '3470']\n",
      "['carrot,32,250', 'Total', '=', '8000']\n",
      "['carrot,12,300', 'Total', '=', '3600']\n",
      "Maximum Price of carrot =  8000\n",
      "Minimum Price of carrot= 2460\n"
     ]
    }
   ],
   "source": [
    "carrot=[]\n",
    "with open(\"23122017.csv\",\"r+\") as file:\n",
    "    for line in file:\n",
    "        if \"carrot\" in line:\n",
    "\n",
    "            lines=line.split()\n",
    "            print(lines)\n",
    "            carrot.append(int(lines[3]))   \n",
    "    print(\"Maximum Price of carrot = \",max(carrot))\n",
    "    print(\"Minimum Price of carrot=\",min(carrot)) "
   ]
  },
  {
   "cell_type": "code",
   "execution_count": 51,
   "metadata": {},
   "outputs": [
    {
     "name": "stdout",
     "output_type": "stream",
     "text": [
      "['cabbage,20,211', 'Total', '=', '4220']\n",
      "['cabbage,20,123', 'Total', '=', '2460']\n",
      "['cabbage,18,250', 'Total', '=', '4500']\n",
      "['cabbage,22,578', 'Total', '=', '12716']\n",
      "['cabbage,16,315', 'Total', '=', '5040']\n",
      "['cabbage,18,315', 'Total', '=', '5670']\n",
      "['cabbage,30,315', 'Total', '=', '9450']\n",
      "['cabbage,32,300', 'Total', '=', '9600']\n",
      "['cabbage,13,315', 'Total', '=', '4095']\n",
      "['cabbage,10,300', 'Total', '=', '3000']\n",
      "Maximum Price of cabbage =  12716\n",
      "Minimum Price of cabbage= 2460\n"
     ]
    }
   ],
   "source": [
    "cabbage=[]\n",
    "with open(\"23122017.csv\",\"r+\") as file:\n",
    "    for line in file:\n",
    "        if \"cabbage\" in line:\n",
    "\n",
    "            lines=line.split()\n",
    "            print(lines) \n",
    "            cabbage.append(int(lines[3]))   \n",
    "    print(\"Maximum Price of cabbage = \",max(cabbage))\n",
    "    print(\"Minimum Price of cabbage=\",min(cabbage))"
   ]
  },
  {
   "cell_type": "code",
   "execution_count": 52,
   "metadata": {},
   "outputs": [
    {
     "name": "stdout",
     "output_type": "stream",
     "text": [
      "['cauliflower,20,211', 'Total', '=', '4220']\n",
      "['cauliflower,22,211', 'Total', '=', '4642']\n",
      "['cauliflower,20,315', 'Total', '=', '6300']\n",
      "['cauliflower,25,100', 'Total', '=', '2500']\n",
      "['cauliflower,25,243', 'Total', '=', '6075']\n",
      "['cauliflower,25,347', 'Total', '=', '8675']\n",
      "['cauliflower,18,250', 'Total', '=', '4500']\n",
      "['cauliflower,10,243', 'Total', '=', '2430']\n",
      "Maximum Price of cauliflower =  8675\n",
      "Minimum Price of cauliflower= 2430\n"
     ]
    }
   ],
   "source": [
    "cauliflower=[]\n",
    "with open(\"23122017.csv\",\"r+\") as file:\n",
    "    for line in file:\n",
    "        if \"cauliflower\" in line:\n",
    "\n",
    "            lines=line.split()\n",
    "            print(lines) \n",
    "            cauliflower.append(int(lines[3]))   \n",
    "    print(\"Maximum Price of cauliflower = \",max(cauliflower))\n",
    "    print(\"Minimum Price of cauliflower=\",min(cauliflower))"
   ]
  },
  {
   "cell_type": "code",
   "execution_count": 54,
   "metadata": {},
   "outputs": [
    {
     "name": "stdout",
     "output_type": "stream",
     "text": [
      "['beans,13,243', 'Total', '=', '3159']\n",
      "['beans,10,578', 'Total', '=', '5780']\n",
      "['beans,30,211', 'Total', '=', '6330']\n",
      "['beans,13,578', 'Total', '=', '7514']\n",
      "['beans,30,315', 'Total', '=', '9450']\n",
      "['beans,20,211', 'Total', '=', '4220']\n",
      "['beans,32,211', 'Total', '=', '6752']\n",
      "Maximum Price of beans =  9450\n",
      "Minimum Price of beans = 3159\n"
     ]
    }
   ],
   "source": [
    "beans=[]\n",
    "with open(\"23122017.csv\",\"r+\") as file:\n",
    "    for line in file:\n",
    "        if \"beans\" in line:\n",
    "\n",
    "            lines=line.split()\n",
    "            print(lines) \n",
    "            beans.append(int(lines[3]))   \n",
    "    print(\"Maximum Price of beans = \",max(beans))\n",
    "    print(\"Minimum Price of beans =\",min(beans))"
   ]
  },
  {
   "cell_type": "code",
   "execution_count": 55,
   "metadata": {},
   "outputs": [
    {
     "name": "stdout",
     "output_type": "stream",
     "text": [
      "['onion,32,347', 'Total', '=', '11104']\n",
      "['onion,12,300', 'Total', '=', '3600']\n",
      "['onion,25,315', 'Total', '=', '7875']\n",
      "['onion,13,123', 'Total', '=', '1599']\n",
      "['onion,22,347', 'Total', '=', '7634']\n",
      "['onion,25,243', 'Total', '=', '6075']\n",
      "['onion,10,300', 'Total', '=', '3000']\n",
      "['onion,25,250', 'Total', '=', '6250']\n",
      "['onion,18,123', 'Total', '=', '2214']\n",
      "['onion,16,300', 'Total', '=', '4800']\n",
      "['onion,18,347', 'Total', '=', '6246']\n",
      "['onion,10,250', 'Total', '=', '2500']\n",
      "Maximum Price of onion =  11104\n",
      "Minimum Price of onion= 1599\n"
     ]
    }
   ],
   "source": [
    "onion=[]\n",
    "with open(\"23122017.csv\",\"r+\") as file:\n",
    "    for line in file:\n",
    "        if \"onion\" in line:\n",
    "\n",
    "            lines=line.split()\n",
    "            print(lines)\n",
    "            onion.append(int(lines[3]))   \n",
    "    print(\"Maximum Price of onion = \",max(onion))\n",
    "    print(\"Minimum Price of onion=\",min(onion)) "
   ]
  },
  {
   "cell_type": "code",
   "execution_count": 56,
   "metadata": {},
   "outputs": [
    {
     "name": "stdout",
     "output_type": "stream",
     "text": [
      "['beetroot,16,243', 'Total', '=', '3888']\n",
      "['beetroot,30,347', 'Total', '=', '10410']\n",
      "['beetroot,25,100', 'Total', '=', '2500']\n",
      "['beetroot,30,250', 'Total', '=', '7500']\n",
      "['beetroot,30,300', 'Total', '=', '9000']\n",
      "['beetroot,16,430', 'Total', '=', '6880']\n",
      "['beetroot,12,211', 'Total', '=', '2532']\n",
      "['beetroot,13,250', 'Total', '=', '3250']\n",
      "['beetroot,30,250', 'Total', '=', '7500']\n",
      "['beetroot,10,578', 'Total', '=', '5780']\n",
      "['beetroot,25,347', 'Total', '=', '8675']\n",
      "['beetroot,10,578', 'Total', '=', '5780']\n",
      "['beetroot,16,123', 'Total', '=', '1968']\n",
      "['beetroot,18,243', 'Total', '=', '4374']\n",
      "['beetroot,18,578', 'Total', '=', '10404']\n",
      "['beetroot,20,100', 'Total', '=', '2000']\n",
      "Maximum Price of beetroot =  10410\n",
      "Minimum Price of beetroot= 1968\n"
     ]
    }
   ],
   "source": [
    "beetroot=[]\n",
    "with open(\"23122017.csv\",\"r+\") as file:\n",
    "    for line in file:\n",
    "        if \"beetroot\" in line:\n",
    "\n",
    "            lines=line.split()\n",
    "            print(lines)\n",
    "            beetroot.append(int(lines[3]))   \n",
    "    print(\"Maximum Price of beetroot = \",max(beetroot))\n",
    "    print(\"Minimum Price of beetroot=\",min(beetroot)) "
   ]
  },
  {
   "cell_type": "code",
   "execution_count": 57,
   "metadata": {},
   "outputs": [
    {
     "name": "stdout",
     "output_type": "stream",
     "text": [
      "['raddish,25,211', 'Total', '=', '5275']\n",
      "['raddish,10,578', 'Total', '=', '5780']\n",
      "['raddish,13,243', 'Total', '=', '3159']\n",
      "['raddish,16,315', 'Total', '=', '5040']\n",
      "['raddish,30,578', 'Total', '=', '17340']\n",
      "['raddish,25,243', 'Total', '=', '6075']\n",
      "['raddish,30,300', 'Total', '=', '9000']\n",
      "['raddish,22,100', 'Total', '=', '2200']\n",
      "['raddish,10,300', 'Total', '=', '3000']\n",
      "['raddish,30,243', 'Total', '=', '7290']\n",
      "['raddish,12,211', 'Total', '=', '2532']\n",
      "Maximum Price of raddish =  17340\n",
      "Minimum Price of raddish= 2200\n"
     ]
    }
   ],
   "source": [
    "raddish=[]\n",
    "with open(\"23122017.csv\",\"r+\") as file:\n",
    "    for line in file:\n",
    "        if \"raddish\" in line:\n",
    "\n",
    "            lines=line.split()\n",
    "            print(lines) \n",
    "            raddish.append(int(lines[3]))   \n",
    "    print(\"Maximum Price of raddish = \",max(raddish))\n",
    "    print(\"Minimum Price of raddish=\",min(raddish))"
   ]
  },
  {
   "cell_type": "code",
   "execution_count": 58,
   "metadata": {},
   "outputs": [
    {
     "name": "stdout",
     "output_type": "stream",
     "text": [
      "['brinjal,30,100', 'Total', '=', '3000']\n",
      "['brinjal,13,300', 'Total', '=', '3900']\n",
      "['brinjal,32,315', 'Total', '=', '10080']\n",
      "['brinjal,30,315', 'Total', '=', '9450']\n",
      "['brinjal,12,578', 'Total', '=', '6936']\n",
      "['brinjal,25,100', 'Total', '=', '2500']\n",
      "['brinjal,10,347', 'Total', '=', '3470']\n",
      "Maximum Price of brinjal =  10080\n",
      "Minimum Price of brinjal= 2500\n"
     ]
    }
   ],
   "source": [
    "brinjal=[]\n",
    "with open(\"23122017.csv\",\"r+\") as file:\n",
    "    for line in file:\n",
    "        if \"brinjal\" in line:\n",
    "\n",
    "            lines=line.split()\n",
    "            print(lines) \n",
    "            brinjal.append(int(lines[3]))   \n",
    "    print(\"Maximum Price of brinjal = \",max(brinjal))\n",
    "    print(\"Minimum Price of brinjal=\",min(brinjal))"
   ]
  }
 ],
 "metadata": {
  "kernelspec": {
   "display_name": "Python 3",
   "language": "python",
   "name": "python3"
  },
  "language_info": {
   "codemirror_mode": {
    "name": "ipython",
    "version": 3
   },
   "file_extension": ".py",
   "mimetype": "text/x-python",
   "name": "python",
   "nbconvert_exporter": "python",
   "pygments_lexer": "ipython3",
   "version": "3.11.1"
  },
  "orig_nbformat": 4
 },
 "nbformat": 4,
 "nbformat_minor": 2
}
