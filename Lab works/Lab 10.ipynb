{
 "cells": [
  {
   "cell_type": "code",
   "execution_count": 18,
   "metadata": {},
   "outputs": [
    {
     "name": "stdout",
     "output_type": "stream",
     "text": [
      "1.Show student details and marks\n",
      "2.Add student details and marks\n",
      "3.search\n",
      "1.Show student details and marks\n",
      "2.Add student details and marks\n",
      "3.search\n",
      "1.Show student details and marks\n",
      "2.Add student details and marks\n",
      "3.search\n",
      "{'1': {'Name': 'a', 'Register No.': '1', 'Phone': '123', 'Email ID': 'a@1c.com', 'Course': 'MSc Data Science', 'Research Methodology': '12', 'Mathematics': '12', 'Statistics': '23', 'Python': '22', 'Excel': '33'}, '13': {'Name': 'd', 'Register No.': '13', 'Phone': '213', 'Email ID': 'q@#.com', 'Course': 'MSc Data Science', 'Research Methodology': '23', 'Mathematics': '32', 'Statistics': '33', 'Python': '22', 'Excel': '11'}}\n",
      "1.Show student details and marks\n",
      "2.Add student details and marks\n",
      "3.search\n",
      "1.Show student details and marks\n",
      "2.Add student details and marks\n",
      "3.search\n",
      "=======Exited======\n"
     ]
    }
   ],
   "source": [
    "#Creating a class of student details and marks\n",
    "class students:\n",
    "    def __init__(self):\n",
    "        self.student = {}  \n",
    "    def student_det_marks(self,name,reg_no,phone,email,course,res,mat,stat,py,excel):\n",
    "        self.det_mark = {\"Name\" : name,\n",
    "                        \"Register No.\" : reg_no,\n",
    "                        \"Phone\" : phone,\n",
    "                        \"Email ID\" : email,\n",
    "                        \"Course\" : course,\n",
    "                        \"Research Methodology\" : res,\n",
    "                        \"Mathematics\" : mat,\n",
    "                        \"Statistics\" : stat,\n",
    "                        \"Python\" : py,\n",
    "                        \"Excel\" : excel\n",
    "                        }\n",
    "        self.student[reg_no.strip()] = self.det_mark\n",
    "\n",
    "    def display_studentdet(self):\n",
    "        print(self.student)\n",
    "\n",
    "    def search_student(self,reg_no):\n",
    "        if reg_no.strip() in self.student.keys():\n",
    "            print(\"Record Exists\")\n",
    "\n",
    "std = students()\n",
    "while True:\n",
    "    print(\"1.Show student details and marks\")\n",
    "    print(\"2.Add student details and marks\")\n",
    "    print(\"3.Search student and his/her marks\")\n",
    "    print(\"4.Exit\")\n",
    "\n",
    "    choice = int(input(\"Enter the choice:\"))\n",
    "    if choice == 1:\n",
    "        std.display_studentdet()\n",
    "\n",
    "    elif choice == 2:\n",
    "        name = input(\"Enter the Name of the student:\")\n",
    "        reg_no = input(\"Enter the Register Number:\")\n",
    "        phone = input(\"Enter the Phone Number:\")\n",
    "        email = input(\"Enter the Email ID:\")\n",
    "        course = \"MSc Data Science\"\n",
    "        res = input(\"Enter the marks scored in Research Methodology:\")\n",
    "        mat = input(\"Enter the marks scored in Mathematics:\")\n",
    "        stat = input(\"Enter the marks scored in Statistics:\")\n",
    "        py = input(\"Enter the marks scored in Python Programming:\")\n",
    "        excel = input(\"Enter the marks scored in Excel:\")\n",
    "        std.student_det_marks(name,reg_no,phone,email,course,res,mat,stat,py,excel)\n",
    "\n",
    "    elif choice == 3:\n",
    "        reg_no = input(\"Enter the register number to search:\")\n",
    "        \n",
    "    else:\n",
    "        print(\"=======Exited======\")\n",
    "        break\n",
    "    \n",
    "    "
   ]
  }
 ],
 "metadata": {
  "kernelspec": {
   "display_name": "Python 3",
   "language": "python",
   "name": "python3"
  },
  "language_info": {
   "codemirror_mode": {
    "name": "ipython",
    "version": 3
   },
   "file_extension": ".py",
   "mimetype": "text/x-python",
   "name": "python",
   "nbconvert_exporter": "python",
   "pygments_lexer": "ipython3",
   "version": "3.11.1"
  }
 },
 "nbformat": 4,
 "nbformat_minor": 2
}
