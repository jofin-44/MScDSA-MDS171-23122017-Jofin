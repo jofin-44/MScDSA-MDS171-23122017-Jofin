{
 "cells": [
  {
   "cell_type": "code",
   "execution_count": 4,
   "metadata": {},
   "outputs": [
    {
     "name": "stdout",
     "output_type": "stream",
     "text": [
      "=======The villagers list==========\n",
      "Type 'q' if you want to exit\n",
      "name already exists\n",
      "name already exists\n",
      "exited\n",
      "['jof', 'raju', 'rahul', 'geo', 'george', 'john', 'johny']\n",
      "===========Total number of names of villagers========\n",
      "Total number of names of villagers =  7\n",
      "===========The names starting with specific letter========\n",
      "The names starting with j are\n",
      "jof\n",
      "john\n",
      "johny\n",
      "=============sorting in alphabetic order=================\n",
      "['geo', 'george', 'jof', 'john', 'johny', 'rahul', 'raju']\n"
     ]
    }
   ],
   "source": [
    "#enter the villagers name to the list\n",
    "print(\"=======The villagers list==========\")\n",
    "vlist=[] #creating a list\n",
    "def village():\n",
    "    print(\"Type 'q' if you want to exit\")\n",
    "    while True:\n",
    "        n=input(\"Enter the name of villager:\") #entering n villager's name\n",
    "        ns=n.strip() #avoid spacing\n",
    "        lc=ns.lower() #converting to lowercase\n",
    "        if ns==\"q\":\n",
    "            print(\"exited\") #exited from loop\n",
    "            break\n",
    "        elif lc in vlist:\n",
    "            print(\"name already exists\") #checking whether name already exists or not\n",
    "        else:\n",
    "            vlist.append(lc) #adding each names to list\n",
    "    print(vlist)\n",
    "    \n",
    "    print(\"===========Total number of names of villagers========\")\n",
    "    total=len(vlist) #total number of villagers\n",
    "    print(\"Total number of names of villagers = \",total)\n",
    "    \n",
    "    print(\"===========The names starting with specific letter========\")\n",
    "    let=input(\"Enter the letter:\") #searching the names come under a particular letter\n",
    "    print(\"The names starting with\" ,let, \"are\")\n",
    "    for i in vlist:\n",
    "        if let in i[0]:\n",
    "            print(i)\n",
    "    \n",
    "    print(\"=============sorting in alphabetic order=================\")\n",
    "    vlist.sort()\n",
    "    print(vlist)\n",
    "village()"
   ]
  },
  {
   "cell_type": "code",
   "execution_count": null,
   "metadata": {},
   "outputs": [],
   "source": []
  }
 ],
 "metadata": {
  "kernelspec": {
   "display_name": "Python 3",
   "language": "python",
   "name": "python3"
  },
  "language_info": {
   "codemirror_mode": {
    "name": "ipython",
    "version": 3
   },
   "file_extension": ".py",
   "mimetype": "text/x-python",
   "name": "python",
   "nbconvert_exporter": "python",
   "pygments_lexer": "ipython3",
   "version": "3.11.1"
  },
  "orig_nbformat": 4
 },
 "nbformat": 4,
 "nbformat_minor": 2
}
