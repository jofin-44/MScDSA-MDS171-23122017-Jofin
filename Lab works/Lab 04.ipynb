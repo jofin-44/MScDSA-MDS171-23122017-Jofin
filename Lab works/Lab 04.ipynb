{
 "cells": [
  {
   "cell_type": "code",
   "execution_count": 15,
   "metadata": {},
   "outputs": [
    {
     "name": "stdout",
     "output_type": "stream",
     "text": [
      "The total amount obtained in this day =  90\n",
      "The total Guest obtained in this day =  5\n"
     ]
    }
   ],
   "source": [
    "def RMS(name , date , item , price , quantity , totalps):\n",
    "    file = open(\"RMS.txt\", \"w+\")\n",
    "    file.write(\"\\nName = \"+name)\n",
    "    file.write(\"\\nDate = \"+date)\n",
    "    file.write(\"\\nItem Code = \"+item)\n",
    "    file.write(\"\\nQuantity = \"+str(quantity))\n",
    "    file.write(\"\\nRate = \"+str(price))\n",
    "    file.write(\"\\nGuestCount = \"+totalps)\n",
    "    file.write(\"\\n==================================================\")\n",
    "    file.close()\n",
    "    return True\n",
    "\n",
    "\n",
    "name = input(\"Enter the Name: \")\n",
    "date = input(\"Enter the date: \")\n",
    "item = input(\"Enter the item: \")\n",
    "initial_price = int(input(\"Enter the price of an item: \"))\n",
    "quantity = int(input(\"Enter the quantity of an item\"))\n",
    "totalps = input(\"Enter the Customer's Count: \")\n",
    "price=initial_price*quantity\n",
    "RMS(name , date , item , price , quantity , totalps)\n",
    "\n",
    "\n",
    "\n",
    "#analysis\n",
    "salescount = 0\n",
    "with open(\"RMS.txt\" , \"r+\") as file :\n",
    "    for line in file:\n",
    "        if \"Rate\" in line:\n",
    "            \n",
    "            Rate = int(line.split(\"=\")[1].strip())\n",
    "            salescount =salescount+price\n",
    "print(\"The total amount obtained in this day = \" , salescount)\n",
    "    # print(\"The total amount of customers per day: \" , salescount)\n",
    "\n",
    "\n",
    "\n",
    "\n",
    "#analysis\n",
    "count = 0\n",
    "with open(\"RMS.txt\" , \"r+\") as file :\n",
    "    for line in file:\n",
    "        if \"GuestCount\" in line:\n",
    "            \n",
    "            GuestCount = int(line.split(\"=\")[1].strip())\n",
    "            count =count+GuestCount\n",
    "print(\"The total Guest obtained in this day = \" , count)\n",
    "    # print(\"The total amount of customers per day: \" , salescount)\n",
    "        \n",
    "\n"
   ]
  }
 ],
 "metadata": {
  "kernelspec": {
   "display_name": "Python 3",
   "language": "python",
   "name": "python3"
  },
  "language_info": {
   "codemirror_mode": {
    "name": "ipython",
    "version": 3
   },
   "file_extension": ".py",
   "mimetype": "text/x-python",
   "name": "python",
   "nbconvert_exporter": "python",
   "pygments_lexer": "ipython3",
   "version": "3.11.1"
  },
  "orig_nbformat": 4
 },
 "nbformat": 4,
 "nbformat_minor": 2
}
