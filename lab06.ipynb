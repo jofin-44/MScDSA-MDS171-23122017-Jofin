{
 "cells": [
  {
   "cell_type": "code",
   "execution_count": 69,
   "metadata": {},
   "outputs": [
    {
     "name": "stdout",
     "output_type": "stream",
     "text": [
      "Word is: GREGORY FERNANDEZ\n",
      "E,O,E,A,E,\n",
      "\n",
      "List of vowels in the word GREGORY FERNANDEZ is: ['E', 'O', 'E', 'A', 'E']\n",
      "Total number of vowels :  5\n",
      "Total number of each vowels in word GREGORY FERNANDEZ \n",
      "A: 1 \n",
      "E: 3 \n",
      "I: 0 \n",
      "O: 1 \n",
      "U: 0\n",
      "Percentage : 29.411764705882355 %\n"
     ]
    }
   ],
   "source": [
    "def vowels():\n",
    "    word=input(\"Enter a word:\") #enter a word\n",
    "    word_u=word.upper()\n",
    "    word_u=word_u.strip()\n",
    "    print(\"Word is:\",word_u) #displaying the word\n",
    "    list_v=[]\n",
    "    list_a=[]\n",
    "    list_e=[]\n",
    "    list_i=[]\n",
    "    list_o=[]\n",
    "    list_u=[]\n",
    "    for i in word_u:\n",
    "        if i==\"A\":\n",
    "            print(\"A\",end=\",\")\n",
    "            list_v.append(i)\n",
    "            list_a.append(i)\n",
    "        elif i==\"E\":\n",
    "            print(\"E\",end=\",\")\n",
    "            list_v.append(i)\n",
    "            list_e.append(i)\n",
    "        elif i==\"I\":\n",
    "            print(\"I\",end=\",\")\n",
    "            list_v.append(i)\n",
    "            list_i.append(i)\n",
    "        elif i==\"O\":\n",
    "            print(\"O\",end=\",\")\n",
    "            list_v.append(i)\n",
    "            list_o.append(i)\n",
    "        elif i==\"U\":\n",
    "            print(\"U\",end=\",\")\n",
    "            list_v.append(i)\n",
    "            list_u.append(i)\n",
    "    print(\"\\n\")\n",
    "    print(\"List of vowels in the word\",word_u, \"is:\" ,list_v)\n",
    "    total_vowels=len(list_v)\n",
    "    print(\"Total number of vowels : \",total_vowels)\n",
    "    print(\"Total number of each vowels in word\",word_u, \"\\n\"\"A:\",len(list_a), \"\\n\"\"E:\" ,len(list_e), \"\\n\"\"I:\" ,len(list_i), \"\\n\"\"O:\" ,len(list_o), \"\\n\"\"U:\" ,len(list_u))\n",
    "    word_len=len(word_u)\n",
    "    perc=((total_vowels/word_len)*100)\n",
    "    print(\"Percentage :\",(perc),\"%\")\n",
    "vowels()"
   ]
  }
 ],
 "metadata": {
  "kernelspec": {
   "display_name": "Python 3",
   "language": "python",
   "name": "python3"
  },
  "language_info": {
   "codemirror_mode": {
    "name": "ipython",
    "version": 3
   },
   "file_extension": ".py",
   "mimetype": "text/x-python",
   "name": "python",
   "nbconvert_exporter": "python",
   "pygments_lexer": "ipython3",
   "version": "3.11.1"
  },
  "orig_nbformat": 4
 },
 "nbformat": 4,
 "nbformat_minor": 2
}
